{
 "cells": [
  {
   "cell_type": "code",
   "execution_count": 1,
   "metadata": {},
   "outputs": [],
   "source": [
    "import numpy as np\n",
    "import gurobipy as gp"
   ]
  },
  {
   "cell_type": "code",
   "execution_count": null,
   "metadata": {},
   "outputs": [],
   "source": []
  },
  {
   "cell_type": "markdown",
   "metadata": {},
   "source": [
    "# Simple LP vs IP example"
   ]
  },
  {
   "cell_type": "code",
   "execution_count": null,
   "metadata": {},
   "outputs": [],
   "source": [
    "obj = np.array([5,4])\n",
    "A = np.zeros((2,2))\n",
    "A[0,:] = [1,1]\n",
    "A[1,:] = [10,6]\n",
    "sense = ['<','<']\n",
    "b = np.array([5,45])"
   ]
  },
  {
   "cell_type": "code",
   "execution_count": null,
   "metadata": {},
   "outputs": [],
   "source": []
  },
  {
   "cell_type": "code",
   "execution_count": null,
   "metadata": {},
   "outputs": [],
   "source": [
    "lpMod = gp.Model()\n",
    "lpMod_x = lpMod.addMVar(2)\n",
    "lpMod_con = lpMod.addMConstrs(A, lpMod_x, sense, b)\n",
    "lpMod.setMObjective(None,obj,0,sense=gp.GRB.MAXIMIZE)\n",
    "\n",
    "lpMod.Params.OutputFlag = 0 # tell gurobi to shut up!!\n",
    "lpMod.optimize()"
   ]
  },
  {
   "cell_type": "code",
   "execution_count": null,
   "metadata": {},
   "outputs": [],
   "source": [
    "lpMod_x.x"
   ]
  },
  {
   "cell_type": "code",
   "execution_count": null,
   "metadata": {},
   "outputs": [],
   "source": []
  },
  {
   "cell_type": "code",
   "execution_count": null,
   "metadata": {},
   "outputs": [],
   "source": [
    "ipMod = gp.Model()\n",
    "ipMod_x = ipMod.addMVar(2,vtype=['I','I']) # 'C' or 'I' or 'B'\n",
    "ipMod_con = ipMod.addMConstrs(A, ipMod_x, sense, b)\n",
    "ipMod.setMObjective(None,obj,0,sense=gp.GRB.MAXIMIZE)\n",
    "\n",
    "ipMod.Params.OutputFlag = 0 # tell gurobi to shut up!!\n",
    "ipMod.optimize()"
   ]
  },
  {
   "cell_type": "code",
   "execution_count": null,
   "metadata": {},
   "outputs": [],
   "source": [
    "ipMod_x.x"
   ]
  },
  {
   "cell_type": "code",
   "execution_count": null,
   "metadata": {},
   "outputs": [],
   "source": []
  },
  {
   "cell_type": "markdown",
   "metadata": {},
   "source": [
    "# NPV Example"
   ]
  },
  {
   "cell_type": "code",
   "execution_count": null,
   "metadata": {},
   "outputs": [],
   "source": [
    "obj = np.array([16000,8000,10000,19500,22000,12000,7500])\n",
    "sense = ['<']\n",
    "A = np.zeros((1,7))\n",
    "A[0,:] = [5000,2500,3500,6000,7000,4500,3000]\n",
    "b = np.array([15000])\n"
   ]
  },
  {
   "cell_type": "code",
   "execution_count": null,
   "metadata": {},
   "outputs": [],
   "source": [
    "npvMod = gp.Model()\n",
    "npvMod_x = npvMod.addMVar(len(obj),vtype=['B']*len(obj)) # 'C' or 'I' or 'B'\n",
    "npvMod_con = npvMod.addMConstrs(A, npvMod_x, sense, b)\n",
    "npvMod.setMObjective(None,obj,0,sense=gp.GRB.MAXIMIZE)\n",
    "\n",
    "npvMod.Params.OutputFlag = 0 # tell gurobi to shut up!!\n",
    "npvMod.optimize()"
   ]
  },
  {
   "cell_type": "code",
   "execution_count": null,
   "metadata": {},
   "outputs": [],
   "source": [
    "npvMod_x.x"
   ]
  },
  {
   "cell_type": "code",
   "execution_count": null,
   "metadata": {},
   "outputs": [],
   "source": [
    "npvMod.objVal"
   ]
  },
  {
   "cell_type": "code",
   "execution_count": null,
   "metadata": {},
   "outputs": [],
   "source": [
    "npvMod_con[0].Pi"
   ]
  },
  {
   "cell_type": "markdown",
   "metadata": {},
   "source": [
    "# Buy in Problem"
   ]
  },
  {
   "cell_type": "code",
   "execution_count": 2,
   "metadata": {},
   "outputs": [],
   "source": [
    "# buy-in problem\n",
    "# variables are x1, x2, ..., x5, y1, y2, ..., y5\n",
    "M = 10\n",
    "obj = np.array([10,18,11,9,10,-25,-35,-28,-20,-40]) # profits per unit and buy in costs\n",
    "ub = np.array([5,4,5,7,3,1,1,1,1,1]) # upper bound on each project\n",
    "A = np.zeros((6,10))\n",
    "b = np.zeros(6)\n",
    "sense = ['<']*6\n",
    "A[0,:] = [5,7,6,4,8,25,35,28,20,40] # budget constraint\n",
    "b[0] = 125\n",
    "\n",
    "A[1,[0,5]] = [1,-M] # big M constraints\n",
    "A[2,[1,6]] = [1,-M]\n",
    "A[3,[2,7]] = [1,-M]\n",
    "A[4,[3,8]] = [1,-M]\n",
    "A[5,[4,9]] = [1,-M]\n",
    "vtype = ['C']*5 + ['B']*5\n"
   ]
  },
  {
   "cell_type": "code",
   "execution_count": 3,
   "metadata": {},
   "outputs": [
    {
     "name": "stdout",
     "output_type": "stream",
     "text": [
      "Academic license - for non-commercial use only - expires 2022-08-22\n",
      "Using license file /Users/dan/gurobi.lic\n"
     ]
    }
   ],
   "source": [
    "biMod = gp.Model()\n",
    "biMod_x = biMod.addMVar(len(obj),vtype=vtype,ub=ub) # vtype can be: 'C' or 'I' or 'B'\n",
    "biMod_con = biMod.addMConstrs(A, biMod_x, sense, b)\n",
    "biMod.setMObjective(None,obj,0,sense=gp.GRB.MAXIMIZE)\n",
    "\n",
    "biMod.Params.OutputFlag = 0 # tell gurobi to shut up!!\n",
    "biMod.optimize()"
   ]
  },
  {
   "cell_type": "code",
   "execution_count": 4,
   "metadata": {},
   "outputs": [
    {
     "data": {
      "text/plain": [
       "array([ 0.,  4.,  0.,  7.,  0.,  0.,  1., -0.,  1., -0.])"
      ]
     },
     "execution_count": 4,
     "metadata": {},
     "output_type": "execute_result"
    }
   ],
   "source": [
    "biMod_x.x"
   ]
  },
  {
   "cell_type": "code",
   "execution_count": null,
   "metadata": {},
   "outputs": [],
   "source": [
    "# y2 and y4 are 1\n",
    "# y1, y3 and y5 are 0\n",
    "# so only x2 and x4 are allowed to be positive\n",
    "# x1, x3, and x5 must be 0, which they are!\n",
    "# buy 4 units of investment 2 and 7 units of investment 4\n",
    "biMod.objVal # this is the PROFIT, not the payoff\n",
    "# we don't need to include money not invested because you can't get a PROFIT on that money\n",
    "# you actually only invest $101, not your whole $125 budget...\n",
    "# what if you could take all money not invested in a project and put it in a bank\n",
    "# account that pays 1% interest?\n",
    "# then you could also include a slack variable for  all money not spent \n",
    "# in the budget constraint.  then that could be added to the objective\n",
    "# (just its interest) so interest on money not invested gets included in profits\n",
    "# can you set up the model to include that?\n"
   ]
  },
  {
   "cell_type": "code",
   "execution_count": null,
   "metadata": {},
   "outputs": [],
   "source": []
  },
  {
   "cell_type": "code",
   "execution_count": null,
   "metadata": {},
   "outputs": [],
   "source": []
  },
  {
   "cell_type": "code",
   "execution_count": null,
   "metadata": {},
   "outputs": [],
   "source": []
  },
  {
   "cell_type": "code",
   "execution_count": null,
   "metadata": {},
   "outputs": [],
   "source": []
  },
  {
   "cell_type": "code",
   "execution_count": null,
   "metadata": {},
   "outputs": [],
   "source": []
  },
  {
   "cell_type": "code",
   "execution_count": null,
   "metadata": {},
   "outputs": [],
   "source": []
  }
 ],
 "metadata": {
  "kernelspec": {
   "display_name": "Python 3 (ipykernel)",
   "language": "python",
   "name": "python3"
  },
  "language_info": {
   "codemirror_mode": {
    "name": "ipython",
    "version": 3
   },
   "file_extension": ".py",
   "mimetype": "text/x-python",
   "name": "python",
   "nbconvert_exporter": "python",
   "pygments_lexer": "ipython3",
   "version": "3.7.13"
  }
 },
 "nbformat": 4,
 "nbformat_minor": 2
}
