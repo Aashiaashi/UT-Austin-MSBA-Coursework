{
 "cells": [
  {
   "cell_type": "code",
   "execution_count": null,
   "id": "30a6cff4",
   "metadata": {},
   "outputs": [],
   "source": [
    "import numpy as np\n",
    "import gurobipy as gp\n",
    "import pandas as pd\n",
    "import seaborn as sns   # Why sns?  It's a reference to The West Wing\n",
    "import matplotlib.pyplot as plt  # seaborn is based on matplotlib\n",
    "sns.set(color_codes=True) # adds a nice background to the graphs\n",
    "%matplotlib inline"
   ]
  },
  {
   "cell_type": "code",
   "execution_count": null,
   "id": "ef115f4b",
   "metadata": {},
   "outputs": [],
   "source": [
    "nnodes = 25\n",
    "xy = np.random.normal(size=(nnodes,2))\n",
    "dist = np.zeros((nnodes,nnodes))\n",
    "for i in range(nnodes):\n",
    "    for j in range(nnodes):\n",
    "        dist[i,j] = np.sqrt((xy[i,0]-xy[j,0])**2 + (xy[i,1]-xy[j,1])**2)\n",
    "        if i == j:\n",
    "            dist[i,j] = 10000\n",
    "            \n",
    "df = pd.DataFrame({'x':xy[:,0],'y':xy[:,1]})\n",
    "sns.scatterplot(data=df,x='x',y='y');\n"
   ]
  },
  {
   "cell_type": "code",
   "execution_count": null,
   "id": "eec9e86b",
   "metadata": {},
   "outputs": [],
   "source": [
    "obj = np.append(np.reshape(dist,nnodes**2),np.array([0]*nnodes))"
   ]
  },
  {
   "cell_type": "code",
   "execution_count": null,
   "id": "9a22d1a0",
   "metadata": {},
   "outputs": [],
   "source": [
    "N = nnodes\n",
    "A = np.zeros((2*N + (N-1)**2 - (N-1),N**2 + N))\n",
    "b = np.zeros(2*N + (N-1)**2 - (N-1))\n",
    "direction = np.array(['']*(2*N + (N-1)**2 - (N-1)))"
   ]
  },
  {
   "cell_type": "code",
   "execution_count": null,
   "id": "6334c7cd",
   "metadata": {},
   "outputs": [],
   "source": [
    "ind_vec = np.array(range(N))\n",
    "# leave each city once\n",
    "row = 0\n",
    "for j in range(N):\n",
    "    A[row,j*N + ind_vec] = 1\n",
    "    b[row] = 1\n",
    "    direction[row] = '='\n",
    "    row+=1"
   ]
  },
  {
   "cell_type": "code",
   "execution_count": null,
   "id": "287a40ac",
   "metadata": {},
   "outputs": [],
   "source": [
    "# enter each city once\n",
    "for i in range(N):\n",
    "    A[row,ind_vec*N + i] = 1\n",
    "    b[row] = 1\n",
    "    direction[row] = '='\n",
    "    row+=1"
   ]
  },
  {
   "cell_type": "code",
   "execution_count": null,
   "id": "20b4ce52",
   "metadata": {},
   "outputs": [],
   "source": [
    "for i in range(1,N):\n",
    "    for j in range(1,N):\n",
    "        if i != j:\n",
    "            # ui - uj + Nxij <= (N-1)\n",
    "            A[row,[N**2+i,N**2+j,j*N+i]] = [1,-1,N]\n",
    "            b[row] = N-1\n",
    "            direction[row] = '<'\n",
    "            row+=1"
   ]
  },
  {
   "cell_type": "code",
   "execution_count": null,
   "id": "63d929a0",
   "metadata": {},
   "outputs": [],
   "source": [
    "tspMod = gp.Model()\n",
    "tspMod_x = tspMod.addMVar(N**2 + N,vtype=['B']*(N**2)+['C']*N) \n",
    "tspMod_con = tspMod.addMConstrs(A, tspMod_x, direction, b)\n",
    "tspMod.setMObjective(None,obj,0,sense=gp.GRB.MINIMIZE)\n",
    "\n",
    "tspMod.Params.OutputFlag = 0 # tell gurobi to shut up!!\n",
    "tspMod.Params.TimeLimit = 120\n",
    "tspMod.optimize()"
   ]
  },
  {
   "cell_type": "code",
   "execution_count": null,
   "id": "954df3a6",
   "metadata": {},
   "outputs": [],
   "source": [
    "tspMod.ObjVal"
   ]
  },
  {
   "cell_type": "code",
   "execution_count": null,
   "id": "baf54f25",
   "metadata": {},
   "outputs": [],
   "source": [
    "sns.scatterplot(data=df,x='x',y='y');\n",
    "for i in range(N):\n",
    "    for j in range(N):\n",
    "        if tspMod_x.x[i*N+j] > 0.9:\n",
    "            plt.plot([xy[i,0],xy[j,0]],[xy[i,1],xy[j,1]],'r')"
   ]
  },
  {
   "cell_type": "code",
   "execution_count": null,
   "id": "159e9771",
   "metadata": {},
   "outputs": [],
   "source": []
  },
  {
   "cell_type": "code",
   "execution_count": null,
   "id": "1b4949b8",
   "metadata": {},
   "outputs": [],
   "source": []
  },
  {
   "cell_type": "markdown",
   "id": "d16046c1",
   "metadata": {},
   "source": [
    "# simulated annealing"
   ]
  },
  {
   "cell_type": "code",
   "execution_count": null,
   "id": "32381d37",
   "metadata": {},
   "outputs": [],
   "source": [
    "def transport(path):\n",
    "    nx = len(path)\n",
    "    startstop = np.random.choice(nx,2,replace=False)\n",
    "    if startstop[0] > startstop[1]:\n",
    "        remove_path = np.append(path[startstop[0]:],path[:(startstop[1]+1)])\n",
    "        closed_path = path[(startstop[1]+1):startstop[0]]\n",
    "    else:\n",
    "        remove_path = path[startstop[0]:(startstop[1]+1)]\n",
    "        closed_path = np.append(path[0:startstop[0]],path[(startstop[1]+1):])\n",
    "    nc = len(closed_path)\n",
    "    if nc > 0:\n",
    "        paste = np.random.choice(nc,1)[0]\n",
    "        newpath = np.append(closed_path[0:(paste+1)],remove_path)\n",
    "        newpath = np.append(newpath,closed_path[(paste+1):])\n",
    "    else:\n",
    "        newpath = path\n",
    "    return newpath"
   ]
  },
  {
   "cell_type": "code",
   "execution_count": null,
   "id": "14d9b849",
   "metadata": {},
   "outputs": [],
   "source": [
    "def reverse(path):\n",
    "    nx = len(path)\n",
    "    startstop = np.random.choice(nx,2,replace=False)\n",
    "    if startstop[0] > startstop[1]:\n",
    "        remove_path = np.append(path[startstop[0]:],path[:(startstop[1]+1)])\n",
    "        remove_path = remove_path[::-1]\n",
    "        closed_path = path[(startstop[1]+1):startstop[0]]\n",
    "        new_path = np.append(closed_path,remove_path)\n",
    "    else:\n",
    "        remove_path = path[startstop[0]:(startstop[1]+1)]\n",
    "        remove_path = remove_path[::-1]\n",
    "        new_path = np.append(path[0:startstop[0]],remove_path)\n",
    "        new_path = np.append(new_path,path[(startstop[1]+1):])\n",
    "    return new_path   "
   ]
  },
  {
   "cell_type": "code",
   "execution_count": null,
   "id": "f1ca6b05",
   "metadata": {},
   "outputs": [],
   "source": [
    "def measure_path(path,dist):\n",
    "    nx = len(path)\n",
    "    total_dist = 0\n",
    "    for i in range(nx-1):\n",
    "        total_dist += dist[path[i],path[i+1]]\n",
    "    total_dist += dist[path[nx-1],path[0]]\n",
    "    return total_dist"
   ]
  },
  {
   "cell_type": "code",
   "execution_count": null,
   "id": "684dc7b1",
   "metadata": {},
   "outputs": [],
   "source": [
    "eps = 1\n",
    "nloop = 100000\n",
    "delta = eps/nloop\n",
    "path = np.random.choice(nnodes,nnodes,False)\n",
    "total_dist = measure_path(path,dist)\n",
    "for j in range(nloop):\n",
    "    if np.random.random() < 0.5:\n",
    "        newpath = transport(path)\n",
    "    else:\n",
    "        newpath = reverse(path)\n",
    "    newdist = measure_path(newpath,dist)\n",
    "    if newdist < total_dist:\n",
    "        path = newpath\n",
    "        total_dist = newdist\n",
    "    else:\n",
    "        if np.random.random() < eps/np.exp(newdist-total_dist):\n",
    "            path = newpath\n",
    "            total_dist = newdist\n",
    "    eps -= delta\n",
    "    if (j % 500) == 0:\n",
    "        print(j,total_dist)"
   ]
  },
  {
   "cell_type": "code",
   "execution_count": null,
   "id": "7ecd1cee",
   "metadata": {},
   "outputs": [],
   "source": [
    "sns.scatterplot(data=df,x='x',y='y');\n",
    "for i in range(N-1):\n",
    "    plt.plot([xy[path[i],0],xy[path[i+1],0]],[xy[path[i],1],xy[path[i+1],1]],'r')\n",
    "plt.plot([xy[path[N-1],0],xy[path[0],0]],[xy[path[N-1],1],xy[path[0],1]],'r');"
   ]
  },
  {
   "cell_type": "code",
   "execution_count": null,
   "id": "4805ca39",
   "metadata": {},
   "outputs": [],
   "source": [
    "sns.scatterplot(data=df,x='x',y='y');\n",
    "for i in range(N):\n",
    "    for j in range(N):\n",
    "        if tspMod_x.x[i*N+j] > 0.9:\n",
    "            plt.plot([xy[i,0],xy[j,0]],[xy[i,1],xy[j,1]],'r')"
   ]
  },
  {
   "cell_type": "code",
   "execution_count": null,
   "id": "54082ddd",
   "metadata": {},
   "outputs": [],
   "source": []
  },
  {
   "cell_type": "code",
   "execution_count": null,
   "id": "4c4f9c31",
   "metadata": {},
   "outputs": [],
   "source": []
  }
 ],
 "metadata": {
  "kernelspec": {
   "display_name": "Python 3",
   "language": "python",
   "name": "python3"
  },
  "language_info": {
   "codemirror_mode": {
    "name": "ipython",
    "version": 3
   },
   "file_extension": ".py",
   "mimetype": "text/x-python",
   "name": "python",
   "nbconvert_exporter": "python",
   "pygments_lexer": "ipython3",
   "version": "3.8.8"
  }
 },
 "nbformat": 4,
 "nbformat_minor": 5
}
