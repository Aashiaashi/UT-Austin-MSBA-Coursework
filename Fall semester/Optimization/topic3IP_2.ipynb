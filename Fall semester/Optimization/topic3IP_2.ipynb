{
  "cells": [
    {
      "cell_type": "code",
      "execution_count": null,
      "metadata": {
        "id": "STNn9qilbh3f"
      },
      "outputs": [],
      "source": [
        "!pip install gurobipy"
      ]
    },
    {
      "cell_type": "code",
      "execution_count": null,
      "metadata": {
        "id": "BiCP1rkwbh3m"
      },
      "outputs": [],
      "source": [
        "import numpy as np\n",
        "import gurobipy as gp"
      ]
    },
    {
      "cell_type": "code",
      "execution_count": null,
      "metadata": {
        "id": "ECKoVYjabh3o"
      },
      "outputs": [],
      "source": []
    },
    {
      "cell_type": "code",
      "execution_count": null,
      "metadata": {
        "id": "ZcT-kCoXbh3o"
      },
      "outputs": [],
      "source": []
    },
    {
      "cell_type": "markdown",
      "source": [
        "# Football problem"
      ],
      "metadata": {
        "id": "qK-dfweWyVTZ"
      }
    },
    {
      "cell_type": "code",
      "execution_count": null,
      "metadata": {
        "id": "KgZ38u2Qbh3_"
      },
      "outputs": [],
      "source": [
        "# decision variable: x1, x2, ... x6, y1, y2, ..., y6, I1, I2, ..., I6\n",
        "obj = np.array([12.5,12.55,12.7,12.8,12.85,12.95,50000,50000,50000,50000,50000,50000,12.5*.05,12.55*.05,12.7*.05,12.8*.05,12.85*.05,12.95*.05])\n",
        "\n",
        "A = np.zeros((12,18))\n",
        "rhs = np.zeros(12)\n",
        "sense = ['<']*12\n",
        "vtype = ['C']*6+['B']*6+['C']*6\n",
        "M = 10000+15000+30000+35000+25000+10000\n",
        "# in a given month you would never manufacture more than the total demand over all 6 months...\n",
        "# big M constraints\n",
        "A[0,[0,6]] = [1,-M]\n",
        "A[1,[1,7]] = [1,-M]\n",
        "A[2,[2,8]] = [1,-M]\n",
        "A[3,[3,9]] = [1,-M]\n",
        "A[4,[4,10]] = [1,-M]\n",
        "A[5,[5,11]] = [1,-M]\n",
        "\n",
        "# inventory vs manufacturing constraints\n",
        "# xi + I(i-1) = Di + Ii\n",
        "A[6,[0,12]] = [1,-1]\n",
        "rhs[6]=10000-5000\n",
        "sense[6]='='\n",
        "\n",
        "A[7,[1,12,13]]=[1,1,-1]\n",
        "rhs[7]=15000\n",
        "sense[7]='='\n",
        "\n",
        "A[8,[2,13,14]]=[1,1,-1]\n",
        "rhs[8]=30000\n",
        "sense[8]='='\n",
        "\n",
        "A[9,[3,14,15]]=[1,1,-1]\n",
        "rhs[9]=35000\n",
        "sense[9]='='\n",
        "\n",
        "A[10,[4,15,16]]=[1,1,-1]\n",
        "rhs[10]=25000\n",
        "sense[10]='='\n",
        "\n",
        "A[11,[5,16,17]]=[1,1,-1]\n",
        "rhs[11]=10000\n",
        "sense[11]='='\n",
        "\n",
        "ub = np.array([np.inf]*6+[1]*6+[20000]*6)"
      ]
    },
    {
      "cell_type": "code",
      "execution_count": null,
      "metadata": {
        "id": "XXCHGLjdbh4A"
      },
      "outputs": [],
      "source": [
        "mod = gp.Model()\n",
        "x = mod.addMVar(18,ub=ub,vtype=vtype)\n",
        "cons = mod.addMConstrs(A,x,sense,rhs)\n",
        "mod.setMObjective(None,obj,0)\n",
        "mod.Params.OutputFlag = 0\n",
        "mod.optimize()"
      ]
    },
    {
      "cell_type": "code",
      "execution_count": null,
      "metadata": {
        "id": "NvUrTyhlbh4B"
      },
      "outputs": [],
      "source": [
        "mod.ObjVal"
      ]
    },
    {
      "cell_type": "code",
      "execution_count": null,
      "metadata": {
        "id": "vwsbnqCrbh4B"
      },
      "outputs": [],
      "source": [
        "x.x"
      ]
    },
    {
      "cell_type": "code",
      "source": [],
      "metadata": {
        "id": "DWNFvlMy4e_u"
      },
      "execution_count": null,
      "outputs": []
    }
  ],
  "metadata": {
    "kernelspec": {
      "display_name": "Python 3",
      "language": "python",
      "name": "python3"
    },
    "language_info": {
      "codemirror_mode": {
        "name": "ipython",
        "version": 3
      },
      "file_extension": ".py",
      "mimetype": "text/x-python",
      "name": "python",
      "nbconvert_exporter": "python",
      "pygments_lexer": "ipython3",
      "version": "3.8.8"
    },
    "colab": {
      "provenance": []
    }
  },
  "nbformat": 4,
  "nbformat_minor": 0
}