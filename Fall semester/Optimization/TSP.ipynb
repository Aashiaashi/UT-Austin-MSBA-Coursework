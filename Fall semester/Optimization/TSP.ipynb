{
 "cells": [
  {
   "cell_type": "code",
   "execution_count": 1,
   "metadata": {},
   "outputs": [],
   "source": [
    "import numpy as np\n",
    "import gurobipy as gp"
   ]
  },
  {
   "cell_type": "code",
   "execution_count": 2,
   "metadata": {},
   "outputs": [],
   "source": [
    "M = 10000#np.sum([0,132,217,164,58,132,0,290,201,79,217,290,0,113,303,164,201,113,0,196,58,79,303,196,0])\n",
    "N = 5\n",
    "# variables are x11, x12, x13, ..., x1N, x21, x22, x23, ..., x2N, ..., xN1, xN2, ...., xNN, u1, u2, ..., uN\n",
    "obj = np.array([M,132,217,164,58,132,M,290,201,79,217,290,M,113,303,164,201,113,M,196,58,79,303,196,M]+[0]*N)"
   ]
  },
  {
   "cell_type": "code",
   "execution_count": 3,
   "metadata": {},
   "outputs": [],
   "source": [
    "A = np.zeros((2*N + (N-1)**2 - (N-1),N**2 + N))\n",
    "b = np.zeros(2*N + (N-1)**2 - (N-1))\n",
    "direction = np.array(['']*(2*N + (N-1)**2 - (N-1)))"
   ]
  },
  {
   "cell_type": "code",
   "execution_count": null,
   "metadata": {},
   "outputs": [],
   "source": []
  },
  {
   "cell_type": "code",
   "execution_count": 5,
   "metadata": {},
   "outputs": [
    {
     "data": {
      "text/plain": [
       "array([0, 1, 2, 3, 4])"
      ]
     },
     "execution_count": 5,
     "metadata": {},
     "output_type": "execute_result"
    }
   ],
   "source": [
    "ind_vec = np.array(range(N))\n",
    "ind_vec"
   ]
  },
  {
   "cell_type": "code",
   "execution_count": 6,
   "metadata": {},
   "outputs": [
    {
     "data": {
      "text/plain": [
       "array([15, 16, 17, 18, 19])"
      ]
     },
     "execution_count": 6,
     "metadata": {},
     "output_type": "execute_result"
    }
   ],
   "source": [
    "j = 3\n",
    "j*N + ind_vec\n",
    "x15 + x16 + x17 + x18 + x19 = 1"
   ]
  },
  {
   "cell_type": "code",
   "execution_count": null,
   "metadata": {},
   "outputs": [],
   "source": []
  },
  {
   "cell_type": "code",
   "execution_count": null,
   "metadata": {},
   "outputs": [],
   "source": [
    "x00 x01 x02 ... x0(N-1)\n",
    "x10 x11 x12 ... x2(n-1)\n",
    "...\n",
    "xn1 xn2 xn3 ... xnn"
   ]
  },
  {
   "cell_type": "code",
   "execution_count": null,
   "metadata": {},
   "outputs": [],
   "source": [
    "x11 x12 x13 ... x1N x21 x22 x23 ... x2n ... xn1 xn2 xn3 ... xnn"
   ]
  },
  {
   "cell_type": "code",
   "execution_count": null,
   "metadata": {},
   "outputs": [],
   "source": [
    "x12 is index N+2\n",
    "\n",
    "xij\n",
    "\n",
    "i*N + j\n"
   ]
  },
  {
   "cell_type": "code",
   "execution_count": 7,
   "metadata": {},
   "outputs": [
    {
     "data": {
      "text/plain": [
       "array([ 3,  8, 13, 18, 23])"
      ]
     },
     "execution_count": 7,
     "metadata": {},
     "output_type": "execute_result"
    }
   ],
   "source": [
    "i = 3\n",
    "ind_vec*N + i"
   ]
  },
  {
   "cell_type": "code",
   "execution_count": 4,
   "metadata": {},
   "outputs": [],
   "source": [
    "ind_vec = np.array(range(N))\n",
    "# leave each city once\n",
    "row = 0\n",
    "for j in range(N):\n",
    "    A[row,j*N + ind_vec] = 1\n",
    "    b[row] = 1\n",
    "    direction[row] = '='\n",
    "    row+=1"
   ]
  },
  {
   "cell_type": "code",
   "execution_count": 5,
   "metadata": {},
   "outputs": [],
   "source": [
    "# enter each city once\n",
    "for i in range(N):\n",
    "    A[row,ind_vec*N + i] = 1\n",
    "    b[row] = 1\n",
    "    direction[row] = '='\n",
    "    row+=1"
   ]
  },
  {
   "cell_type": "code",
   "execution_count": 6,
   "metadata": {},
   "outputs": [],
   "source": [
    "for i in range(1,N):\n",
    "    for j in range(1,N):\n",
    "        if i != j:\n",
    "            # ui - uj + Nxij <= (N-1)\n",
    "            A[row,[N**2+i,N**2+j,j*N+i]] = [1,-1,N]\n",
    "            b[row] = N-1\n",
    "            direction[row] = '<'\n",
    "            row+=1"
   ]
  },
  {
   "cell_type": "code",
   "execution_count": null,
   "metadata": {},
   "outputs": [],
   "source": []
  },
  {
   "cell_type": "code",
   "execution_count": 7,
   "metadata": {},
   "outputs": [
    {
     "name": "stdout",
     "output_type": "stream",
     "text": [
      "Academic license - for non-commercial use only - expires 2022-08-22\n",
      "Using license file /Users/dan/gurobi.lic\n"
     ]
    }
   ],
   "source": [
    "tspMod = gp.Model()\n",
    "tspMod_x = tspMod.addMVar(N**2 + N,vtype=['B']*(N**2)+['C']*N) \n",
    "tspMod_con = tspMod.addMConstrs(A, tspMod_x, direction, b)\n",
    "tspMod.setMObjective(None,obj,0,sense=gp.GRB.MINIMIZE)\n",
    "\n",
    "tspMod.Params.OutputFlag = 0 # tell gurobi to shut up!!\n",
    "tspMod.optimize()"
   ]
  },
  {
   "cell_type": "code",
   "execution_count": 8,
   "metadata": {},
   "outputs": [
    {
     "data": {
      "text/plain": [
       "array([-0., -0., -0., -0.,  1., -0., -0., -0.,  1., -0.,  1., -0., -0.,\n",
       "       -0., -0., -0., -0.,  1., -0., -0., -0.,  1., -0., -0., -0.,  0.,\n",
       "        2.,  0.,  1.,  3.])"
      ]
     },
     "execution_count": 8,
     "metadata": {},
     "output_type": "execute_result"
    }
   ],
   "source": [
    "tspMod_x.x"
   ]
  },
  {
   "cell_type": "code",
   "execution_count": 9,
   "metadata": {},
   "outputs": [
    {
     "data": {
      "text/plain": [
       "668.0"
      ]
     },
     "execution_count": 9,
     "metadata": {},
     "output_type": "execute_result"
    }
   ],
   "source": [
    "tspMod.objval"
   ]
  },
  {
   "cell_type": "code",
   "execution_count": 10,
   "metadata": {},
   "outputs": [
    {
     "name": "stdout",
     "output_type": "stream",
     "text": [
      "Start in city 0.\n",
      "Then go to city 4, traveling 58 miles along the way.\n",
      "Then go to city 1, traveling 79 miles along the way.\n",
      "Then go to city 3, traveling 201 miles along the way.\n",
      "Then go to city 2, traveling 113 miles along the way.\n",
      "Then go to city 0, traveling 217 miles along the way.\n",
      "For a total of 668 miles.\n"
     ]
    }
   ],
   "source": [
    "where = 0\n",
    "miles_traveled = 0\n",
    "print('Start in city 0.')\n",
    "for city in range(N):\n",
    "    where_new = np.where(tspMod_x.x[(where*N):((where+1)*N)])[0][0]\n",
    "    dist = obj[where*N+where_new]\n",
    "    miles_traveled += dist\n",
    "    print('Then go to city '+str(where_new)+', traveling '+str(dist)+' miles along the way.')\n",
    "    where = where_new\n",
    "print('For a total of '+str(miles_traveled)+' miles.')"
   ]
  },
  {
   "cell_type": "code",
   "execution_count": null,
   "metadata": {},
   "outputs": [],
   "source": [
    "# this path may not be unique, there are other paths that are optimal\n",
    "# but they'll all have the same total miles traveled!\n",
    "# for example 0 -> 2 -> 3 -> 1 -> 4 -> 0\n",
    "# also takes 668 miles!"
   ]
  },
  {
   "cell_type": "code",
   "execution_count": null,
   "metadata": {},
   "outputs": [],
   "source": [
    "seq = [0, 2, 3, 1, 4, 0]\n",
    "miles_traveled2 = 0\n",
    "for loc in range(N):\n",
    "    where = seq[loc]\n",
    "    where_new = seq[loc+1]\n",
    "    dist = obj[where*N+where_new]\n",
    "    miles_traveled2 += dist\n",
    "print(miles_traveled2)"
   ]
  },
  {
   "cell_type": "code",
   "execution_count": null,
   "metadata": {},
   "outputs": [],
   "source": [
    "# I have no idea how many other paths are optimal..."
   ]
  },
  {
   "cell_type": "code",
   "execution_count": null,
   "metadata": {},
   "outputs": [],
   "source": []
  },
  {
   "cell_type": "code",
   "execution_count": null,
   "metadata": {},
   "outputs": [],
   "source": []
  }
 ],
 "metadata": {
  "kernelspec": {
   "display_name": "Python 3 (ipykernel)",
   "language": "python",
   "name": "python3"
  },
  "language_info": {
   "codemirror_mode": {
    "name": "ipython",
    "version": 3
   },
   "file_extension": ".py",
   "mimetype": "text/x-python",
   "name": "python",
   "nbconvert_exporter": "python",
   "pygments_lexer": "ipython3",
   "version": "3.7.13"
  }
 },
 "nbformat": 4,
 "nbformat_minor": 2
}
