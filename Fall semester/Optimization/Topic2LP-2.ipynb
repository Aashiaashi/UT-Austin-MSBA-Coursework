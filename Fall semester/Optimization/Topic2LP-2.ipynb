{
 "cells": [
  {
   "cell_type": "code",
   "execution_count": null,
   "metadata": {},
   "outputs": [],
   "source": [
    "import numpy as np\n",
    "import gurobipy as gp\n"
   ]
  },
  {
   "cell_type": "code",
   "execution_count": null,
   "metadata": {},
   "outputs": [],
   "source": []
  },
  {
   "cell_type": "markdown",
   "metadata": {},
   "source": [
    "# OJ Example - Sensitivity Analysis"
   ]
  },
  {
   "cell_type": "code",
   "execution_count": null,
   "metadata": {},
   "outputs": [],
   "source": [
    "obj = np.array([500,450]) # objective vector\n",
    "A = np.zeros((3,2)) # initialize constraint matrix\n",
    "A[0,:] = [6,5] # production constraint\n",
    "A[1,:] = [10,20] # storage constraint\n",
    "A[2,:] = [1,0] # demand constraint\n",
    "b = np.array([60,150,8]) # limits on production, storage, and demand\n",
    "sense = np.array(['<','<','<']) # all constraints are less than or equal constraints"
   ]
  },
  {
   "cell_type": "code",
   "execution_count": null,
   "metadata": {},
   "outputs": [],
   "source": []
  },
  {
   "cell_type": "code",
   "execution_count": null,
   "metadata": {},
   "outputs": [],
   "source": [
    "ojModel = gp.Model() # initialize an empty model\n",
    "\n",
    "ojMod_x = ojModel.addMVar(2) # tell the model how many variables there are\n",
    "# must define the variables before adding constraints because variables go into the constraints\n",
    "ojMod_con = ojModel.addMConstrs(A, ojMod_x, sense, b) # NAME THE CONSTRAINTS!!! so we can get information about them later!\n",
    "ojModel.setMObjective(None,obj,0,sense=gp.GRB.MAXIMIZE) # add the objective to the model...we'll talk about the None and the 0\n",
    "\n",
    "ojModel.Params.OutputFlag = 0 # tell gurobi to shut up!!\n",
    "ojModel.optimize()"
   ]
  },
  {
   "cell_type": "code",
   "execution_count": null,
   "metadata": {},
   "outputs": [],
   "source": [
    "ojModel.Objval"
   ]
  },
  {
   "cell_type": "code",
   "execution_count": null,
   "metadata": {},
   "outputs": [],
   "source": [
    "ojMod_x.x"
   ]
  },
  {
   "cell_type": "markdown",
   "metadata": {},
   "source": [
    "# Sensitivity Analysis\n",
    "\n",
    "objMod_con is a list of gurobi objects.  \n",
    "\n",
    "Each constraint is an item in the list of objects.\n",
    "\n",
    "Each item/object has several attributes and methods.\n",
    "\n",
    "If we want to access sensitivity analysis for each constraint we must iterate through the constraint list of objects and extract the relevant attributes.\n",
    "\n",
    "\n"
   ]
  },
  {
   "cell_type": "markdown",
   "metadata": {},
   "source": [
    "# Shadow Costs / Dual Variables"
   ]
  },
  {
   "cell_type": "code",
   "execution_count": null,
   "metadata": {},
   "outputs": [],
   "source": [
    "[ojMod_con[0].Pi , ojMod_con[1].Pi , ojMod_con[2].Pi]"
   ]
  },
  {
   "cell_type": "code",
   "execution_count": null,
   "metadata": {},
   "outputs": [],
   "source": [
    "[con.Pi for con in ojMod_con]"
   ]
  },
  {
   "cell_type": "markdown",
   "metadata": {},
   "source": [
    "# Upper and lower bound where duals are valid"
   ]
  },
  {
   "cell_type": "code",
   "execution_count": null,
   "metadata": {},
   "outputs": [],
   "source": [
    "[con.SARHSLow for con in ojMod_con]"
   ]
  },
  {
   "cell_type": "code",
   "execution_count": null,
   "metadata": {},
   "outputs": [],
   "source": [
    "[con.SARHSUp for con in ojMod_con]"
   ]
  },
  {
   "cell_type": "markdown",
   "metadata": {},
   "source": [
    "## Double check objective with shadow price"
   ]
  },
  {
   "cell_type": "code",
   "execution_count": null,
   "metadata": {},
   "outputs": [],
   "source": [
    "db = 10\n",
    "ojModel.Objval + db*ojMod_con[0].Pi"
   ]
  },
  {
   "cell_type": "code",
   "execution_count": null,
   "metadata": {},
   "outputs": [],
   "source": [
    "b2 = np.array([60+db,150,8])\n",
    "ojModel2 = gp.Model() # initialize an empty model\n",
    "\n",
    "ojMod_x2 = ojModel2.addMVar(2) # tell the model how many variables there are\n",
    "# must define the variables before adding constraints because variables go into the constraints\n",
    "ojMod_con2 = ojModel2.addMConstrs(A, ojMod_x2, sense, b2) # NAME THE CONSTRAINTS!!! so we can get information about them later!\n",
    "ojModel2.setMObjective(None,obj,0,sense=gp.GRB.MAXIMIZE) # add the objective to the model...we'll talk about the None and the 0\n",
    "\n",
    "ojModel2.Params.OutputFlag = 0 # tell gurobi to shut up!!\n",
    "ojModel2.optimize()\n",
    "\n",
    "ojModel2.Objval"
   ]
  },
  {
   "cell_type": "markdown",
   "metadata": {},
   "source": [
    "# Range of obj where optimal corner stays the same"
   ]
  },
  {
   "cell_type": "code",
   "execution_count": null,
   "metadata": {},
   "outputs": [],
   "source": [
    "ojMod_x.SAObjLow"
   ]
  },
  {
   "cell_type": "code",
   "execution_count": null,
   "metadata": {},
   "outputs": [],
   "source": [
    "ojMod_x.SAObjUp"
   ]
  },
  {
   "cell_type": "code",
   "execution_count": null,
   "metadata": {},
   "outputs": [],
   "source": []
  },
  {
   "cell_type": "code",
   "execution_count": null,
   "metadata": {},
   "outputs": [],
   "source": []
  }
 ],
 "metadata": {
  "kernelspec": {
   "display_name": "Python 3 (ipykernel)",
   "language": "python",
   "name": "python3"
  },
  "language_info": {
   "codemirror_mode": {
    "name": "ipython",
    "version": 3
   },
   "file_extension": ".py",
   "mimetype": "text/x-python",
   "name": "python",
   "nbconvert_exporter": "python",
   "pygments_lexer": "ipython3",
   "version": "3.7.13"
  }
 },
 "nbformat": 4,
 "nbformat_minor": 2
}
