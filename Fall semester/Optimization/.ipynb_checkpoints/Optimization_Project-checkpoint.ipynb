{
 "cells": [
  {
   "cell_type": "code",
   "execution_count": 32,
   "id": "df494338-0fb7-41b1-91e4-c4467a14cf9d",
   "metadata": {},
   "outputs": [],
   "source": [
    "import numpy as np\n",
    "import gurobipy as gp"
   ]
  },
  {
   "cell_type": "markdown",
   "id": "a56d023f-3c14-4d85-8203-0e96c6192309",
   "metadata": {},
   "source": [
    "# PART 1 and 2"
   ]
  },
  {
   "cell_type": "code",
   "execution_count": 33,
   "id": "51d6655f-b777-4c9f-8123-1f6d4954193f",
   "metadata": {},
   "outputs": [],
   "source": [
    "Budget_obj= np.array([1.031,1.049,1.024,1.039,1.016,1.024,1.046,1.026,1.033,1.044]) # objective vector\n",
    "A = np.zeros((13,10)) # initialize constraint matrix\n",
    "A[0,:] = [1,1,1,1,1,1,1,1,1,1]\n",
    "A[1,:] = [1,1,0,0,-1,0,0,0,0,-1] \n",
    "A[2,:] = [0,0,-2,-2,1,1,1,1,1,0] \n",
    "A[3,:] =[1,0,0,0,0,0,0,0,0,0] \n",
    "A[4,:] =[0,1,0,0,0,0,0,0,0,0] \n",
    "A[5,:] =[0,0,1,0,0,0,0,0,0,0] \n",
    "A[6,:] =[0,0,0,1,0,0,0,0,0,0] \n",
    "A[7,:] =[0,0,0,0,1,0,0,0,0,0] \n",
    "A[8,:] =[0,0,0,0,0,1,0,0,0,0] \n",
    "A[9,:] =[0,0,0,0,0,0,1,0,0,0] \n",
    "A[10,:] =[0,0,0,0,0,0,0,1,0,0] \n",
    "A[11,:] =[0,0,0,0,0,0,0,0,1,0] \n",
    "A[12,:] =[0,0,0,0,0,0,0,0,0,1] \n",
    "b = np.array([10,0,0,3,3,3,3,3,3,3,3,3,3]) \n",
    "sense = np.array(['<','<','>','<','<','<','<','<','<','<','<','<','<'])"
   ]
  },
  {
   "cell_type": "markdown",
   "id": "507cf02b-a608-47c7-964e-741b9e406b79",
   "metadata": {},
   "source": [
    "# PART 3\n",
    "### Formulate the marketing budget allocation problem as a linear program. Use gurobi to find the optimal budget allocation."
   ]
  },
  {
   "cell_type": "code",
   "execution_count": 34,
   "id": "b7dbc656-b81a-4346-8ec3-9319922add2c",
   "metadata": {},
   "outputs": [],
   "source": [
    "BudgetModel = gp.Model() # initialize an empty model\n",
    "\n",
    "BudgetModelModX = BudgetModel.addMVar(10) # tell the model how many variables there are\n",
    "# must define the variables before adding constraints because variables go into the constraints\n",
    "BudgetModCon = BudgetModel.addMConstrs(A, ojModX, sense, b) # add the constraints to the model\n",
    "BudgetModel.setMObjective(None,Budget_obj,0,sense=gp.GRB.MAXIMIZE) # add the objective to the model...we'll talk about the None and the 0\n",
    "\n",
    "BudgetModel.Params.OutputFlag = 0 # tell gurobi to shut up!!\n",
    "BudgetModel.Params.TimeLimit = 3600"
   ]
  },
  {
   "cell_type": "code",
   "execution_count": 35,
   "id": "b4f6e5cc-62b6-4be5-b584-6a8bfc0c1492",
   "metadata": {},
   "outputs": [],
   "source": [
    "BudgetModel.optimize()"
   ]
  },
  {
   "cell_type": "code",
   "execution_count": 36,
   "id": "c8b8954c-7a94-4ca1-a376-dcaa51a72f15",
   "metadata": {},
   "outputs": [
    {
     "data": {
      "text/plain": [
       "10.456"
      ]
     },
     "execution_count": 36,
     "metadata": {},
     "output_type": "execute_result"
    }
   ],
   "source": [
    "BudgetModel.objVal"
   ]
  },
  {
   "cell_type": "code",
   "execution_count": 37,
   "id": "a83cdb84-5e4a-4fdc-93bf-9128d428aa56",
   "metadata": {},
   "outputs": [
    {
     "data": {
      "text/plain": [
       "array([0., 3., 0., 1., 0., 0., 3., 0., 0., 3.])"
      ]
     },
     "execution_count": 37,
     "metadata": {},
     "output_type": "execute_result"
    }
   ],
   "source": [
    "BudgetModelModX.x"
   ]
  },
  {
   "cell_type": "markdown",
   "id": "1bb6e8eb-91c8-4286-b249-4d834ee47b1b",
   "metadata": {},
   "source": [
    "# PART 4\n",
    "### Your boss is happy to see the promising results presented by the marketing department.However, your boss is also very concerned because your boss recalls being somewhat disappointed after following such recommendations in the past. To be cautious about the decision, your team has decided to get another opinion about the ROI data and rerun the analysis. The second consulting firm returns the estimates of the ROI data in the table below (also in the CSV file mentioned above). You are asked to compare the two optimal allocations from these two ROI estimates."
   ]
  },
  {
   "cell_type": "code",
   "execution_count": 38,
   "id": "6b0e1029-750f-4aae-8e15-aa7e30e92386",
   "metadata": {},
   "outputs": [],
   "source": [
    "Budget_obj= np.array([1.049,1.023,1.024,1.039,1.044,1.046,1.026,1.019,1.037,1.026]) # objective vector"
   ]
  },
  {
   "cell_type": "code",
   "execution_count": 39,
   "id": "c1e9072f-7401-4e1e-8845-7f73f609ed51",
   "metadata": {},
   "outputs": [],
   "source": [
    "BudgetModel = gp.Model() # initialize an empty model\n",
    "\n",
    "BudgetModelModX = BudgetModel.addMVar(10) # tell the model how many variables there are\n",
    "# must define the variables before adding constraints because variables go into the constraints\n",
    "BudgetModCon = BudgetModel.addMConstrs(A, ojModX, sense, b) # add the constraints to the model\n",
    "BudgetModel.setMObjective(None,Budget_obj,0,sense=gp.GRB.MAXIMIZE) # add the objective to the model...we'll talk about the None and the 0\n",
    "\n",
    "BudgetModel.Params.OutputFlag = 0 # tell gurobi to shut up!!\n",
    "BudgetModel.Params.TimeLimit = 3600"
   ]
  },
  {
   "cell_type": "code",
   "execution_count": 40,
   "id": "fd5ae308-d7ab-4f8f-9f8d-838d807e4913",
   "metadata": {},
   "outputs": [],
   "source": [
    "BudgetModel.optimize()"
   ]
  },
  {
   "cell_type": "code",
   "execution_count": 41,
   "id": "e96415d8-328f-43d9-82ff-be5920ae2f39",
   "metadata": {},
   "outputs": [
    {
     "data": {
      "text/plain": [
       "10.456"
      ]
     },
     "execution_count": 41,
     "metadata": {},
     "output_type": "execute_result"
    }
   ],
   "source": [
    "BudgetModel.objVal"
   ]
  },
  {
   "cell_type": "code",
   "execution_count": 42,
   "id": "6f64cfd7-d539-460f-b84b-9d9af738df9e",
   "metadata": {},
   "outputs": [
    {
     "data": {
      "text/plain": [
       "array([3., 0., 0., 1., 3., 3., 0., 0., 0., 0.])"
      ]
     },
     "execution_count": 42,
     "metadata": {},
     "output_type": "execute_result"
    }
   ],
   "source": [
    "BudgetModelModX.x"
   ]
  },
  {
   "cell_type": "markdown",
   "id": "e5965342-d38f-4777-af66-e4020282eaad",
   "metadata": {},
   "source": [
    "# PART 5\n",
    "### Are the allocations the same? Assuming the first ROI data is correct, if you were to use the second allocation (the allocation that assumed the second ROI data was correct) how much lower would the objective be relative to the optimal objective (the one that uses the first ROI data and the first allocation)? Assuming the second ROI data is correct, if you used the first allocation how much lower would the objective be relative to the optimal objective? Do you think the third constraint above, based on your boss’ experience, is useful?"
   ]
  },
  {
   "cell_type": "code",
   "execution_count": null,
   "id": "8330a1a1-d97b-408b-89fa-c83ea33e2dae",
   "metadata": {},
   "outputs": [],
   "source": []
  }
 ],
 "metadata": {
  "kernelspec": {
   "display_name": "Python 3 (ipykernel)",
   "language": "python",
   "name": "python3"
  },
  "language_info": {
   "codemirror_mode": {
    "name": "ipython",
    "version": 3
   },
   "file_extension": ".py",
   "mimetype": "text/x-python",
   "name": "python",
   "nbconvert_exporter": "python",
   "pygments_lexer": "ipython3",
   "version": "3.9.12"
  }
 },
 "nbformat": 4,
 "nbformat_minor": 5
}
