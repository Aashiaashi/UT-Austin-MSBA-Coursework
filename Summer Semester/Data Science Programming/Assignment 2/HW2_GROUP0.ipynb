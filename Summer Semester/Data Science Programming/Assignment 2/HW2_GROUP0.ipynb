{
 "cells": [
  {
   "cell_type": "markdown",
   "id": "9deb2940-aba4-408e-aa5b-992bcb0384b8",
   "metadata": {},
   "source": [
    "                                                                    Homework Assignment 2"
   ]
  },
  {
   "cell_type": "markdown",
   "id": "7dcc1914-bdef-4cbf-8165-168f4e36dba9",
   "metadata": {},
   "source": [
    "Group Members:\n",
    "    \n",
    "a) Aashi Aashi   \n",
    "b) Aidan Cremins  \n",
    "c) Juwon Lee  \n",
    "d) Aarib Mohammed   \n"
   ]
  },
  {
   "cell_type": "code",
   "execution_count": 4,
   "id": "ae617cea-397a-4a70-9e6f-51a9104b32c2",
   "metadata": {},
   "outputs": [
    {
     "name": "stdout",
     "output_type": "stream",
     "text": [
      "%pylab is deprecated, use %matplotlib inline and import the required libraries.\n",
      "Populating the interactive namespace from numpy and matplotlib\n"
     ]
    }
   ],
   "source": [
    "from pandas import Series, DataFrame\n",
    "import pandas as pd\n",
    "import numpy as np\n",
    "%pylab inline"
   ]
  },
  {
   "cell_type": "markdown",
   "id": "45c6ebe1-44dd-4e19-bc5f-6d827b81a34f",
   "metadata": {},
   "source": [
    "#### Reading the CSV File"
   ]
  },
  {
   "cell_type": "code",
   "execution_count": 5,
   "id": "07b6fa86-18ff-41db-9107-e107ad7ec7d8",
   "metadata": {
    "scrolled": true
   },
   "outputs": [
    {
     "data": {
      "text/html": [
       "<div>\n",
       "<style scoped>\n",
       "    .dataframe tbody tr th:only-of-type {\n",
       "        vertical-align: middle;\n",
       "    }\n",
       "\n",
       "    .dataframe tbody tr th {\n",
       "        vertical-align: top;\n",
       "    }\n",
       "\n",
       "    .dataframe thead th {\n",
       "        text-align: right;\n",
       "    }\n",
       "</style>\n",
       "<table border=\"1\" class=\"dataframe\">\n",
       "  <thead>\n",
       "    <tr style=\"text-align: right;\">\n",
       "      <th></th>\n",
       "      <th>CAMIS</th>\n",
       "      <th>DBA</th>\n",
       "      <th>BORO</th>\n",
       "      <th>BUILDING</th>\n",
       "      <th>STREET</th>\n",
       "      <th>ZIPCODE</th>\n",
       "      <th>PHONE</th>\n",
       "      <th>CUISINE DESCRIPTION</th>\n",
       "      <th>INSPECTION DATE</th>\n",
       "      <th>ACTION</th>\n",
       "      <th>VIOLATION CODE</th>\n",
       "      <th>VIOLATION DESCRIPTION</th>\n",
       "      <th>CRITICAL FLAG</th>\n",
       "      <th>SCORE</th>\n",
       "      <th>GRADE</th>\n",
       "      <th>GRADE DATE</th>\n",
       "      <th>RECORD DATE</th>\n",
       "      <th>INSPECTION TYPE</th>\n",
       "    </tr>\n",
       "  </thead>\n",
       "  <tbody>\n",
       "    <tr>\n",
       "      <th>0</th>\n",
       "      <td>30112340</td>\n",
       "      <td>WENDY'S</td>\n",
       "      <td>BROOKLYN</td>\n",
       "      <td>469</td>\n",
       "      <td>FLATBUSH AVENUE</td>\n",
       "      <td>11225</td>\n",
       "      <td>7182875005</td>\n",
       "      <td>Hamburgers</td>\n",
       "      <td>12/30/2014</td>\n",
       "      <td>Violations were cited in the following area(s).</td>\n",
       "      <td>06C</td>\n",
       "      <td>Food not protected from potential source of co...</td>\n",
       "      <td>Critical</td>\n",
       "      <td>8</td>\n",
       "      <td>A</td>\n",
       "      <td>12/30/2014</td>\n",
       "      <td>02/12/2015</td>\n",
       "      <td>Cycle Inspection / Re-inspection</td>\n",
       "    </tr>\n",
       "    <tr>\n",
       "      <th>1</th>\n",
       "      <td>30112340</td>\n",
       "      <td>WENDY'S</td>\n",
       "      <td>BROOKLYN</td>\n",
       "      <td>469</td>\n",
       "      <td>FLATBUSH AVENUE</td>\n",
       "      <td>11225</td>\n",
       "      <td>7182875005</td>\n",
       "      <td>Hamburgers</td>\n",
       "      <td>12/30/2014</td>\n",
       "      <td>Violations were cited in the following area(s).</td>\n",
       "      <td>10F</td>\n",
       "      <td>Non-food contact surface improperly constructe...</td>\n",
       "      <td>Not Critical</td>\n",
       "      <td>8</td>\n",
       "      <td>A</td>\n",
       "      <td>12/30/2014</td>\n",
       "      <td>02/12/2015</td>\n",
       "      <td>Cycle Inspection / Re-inspection</td>\n",
       "    </tr>\n",
       "    <tr>\n",
       "      <th>2</th>\n",
       "      <td>30112340</td>\n",
       "      <td>WENDY'S</td>\n",
       "      <td>BROOKLYN</td>\n",
       "      <td>469</td>\n",
       "      <td>FLATBUSH AVENUE</td>\n",
       "      <td>11225</td>\n",
       "      <td>7182875005</td>\n",
       "      <td>Hamburgers</td>\n",
       "      <td>11/13/2014</td>\n",
       "      <td>Violations were cited in the following area(s).</td>\n",
       "      <td>04H</td>\n",
       "      <td>Raw, cooked or prepared food is adulterated, c...</td>\n",
       "      <td>Critical</td>\n",
       "      <td>16</td>\n",
       "      <td>NaN</td>\n",
       "      <td>NaN</td>\n",
       "      <td>02/12/2015</td>\n",
       "      <td>Cycle Inspection / Initial Inspection</td>\n",
       "    </tr>\n",
       "    <tr>\n",
       "      <th>3</th>\n",
       "      <td>30112340</td>\n",
       "      <td>WENDY'S</td>\n",
       "      <td>BROOKLYN</td>\n",
       "      <td>469</td>\n",
       "      <td>FLATBUSH AVENUE</td>\n",
       "      <td>11225</td>\n",
       "      <td>7182875005</td>\n",
       "      <td>Hamburgers</td>\n",
       "      <td>11/13/2014</td>\n",
       "      <td>Violations were cited in the following area(s).</td>\n",
       "      <td>06A</td>\n",
       "      <td>Personal cleanliness inadequate. Outer garment...</td>\n",
       "      <td>Critical</td>\n",
       "      <td>16</td>\n",
       "      <td>NaN</td>\n",
       "      <td>NaN</td>\n",
       "      <td>02/12/2015</td>\n",
       "      <td>Cycle Inspection / Initial Inspection</td>\n",
       "    </tr>\n",
       "    <tr>\n",
       "      <th>4</th>\n",
       "      <td>30112340</td>\n",
       "      <td>WENDY'S</td>\n",
       "      <td>BROOKLYN</td>\n",
       "      <td>469</td>\n",
       "      <td>FLATBUSH AVENUE</td>\n",
       "      <td>11225</td>\n",
       "      <td>7182875005</td>\n",
       "      <td>Hamburgers</td>\n",
       "      <td>11/13/2014</td>\n",
       "      <td>Violations were cited in the following area(s).</td>\n",
       "      <td>10F</td>\n",
       "      <td>Non-food contact surface improperly constructe...</td>\n",
       "      <td>Not Critical</td>\n",
       "      <td>16</td>\n",
       "      <td>NaN</td>\n",
       "      <td>NaN</td>\n",
       "      <td>02/12/2015</td>\n",
       "      <td>Cycle Inspection / Initial Inspection</td>\n",
       "    </tr>\n",
       "  </tbody>\n",
       "</table>\n",
       "</div>"
      ],
      "text/plain": [
       "      CAMIS      DBA      BORO BUILDING           STREET ZIPCODE       PHONE  \\\n",
       "0  30112340  WENDY'S  BROOKLYN      469  FLATBUSH AVENUE   11225  7182875005   \n",
       "1  30112340  WENDY'S  BROOKLYN      469  FLATBUSH AVENUE   11225  7182875005   \n",
       "2  30112340  WENDY'S  BROOKLYN      469  FLATBUSH AVENUE   11225  7182875005   \n",
       "3  30112340  WENDY'S  BROOKLYN      469  FLATBUSH AVENUE   11225  7182875005   \n",
       "4  30112340  WENDY'S  BROOKLYN      469  FLATBUSH AVENUE   11225  7182875005   \n",
       "\n",
       "  CUISINE DESCRIPTION INSPECTION DATE  \\\n",
       "0          Hamburgers      12/30/2014   \n",
       "1          Hamburgers      12/30/2014   \n",
       "2          Hamburgers      11/13/2014   \n",
       "3          Hamburgers      11/13/2014   \n",
       "4          Hamburgers      11/13/2014   \n",
       "\n",
       "                                            ACTION VIOLATION CODE  \\\n",
       "0  Violations were cited in the following area(s).            06C   \n",
       "1  Violations were cited in the following area(s).            10F   \n",
       "2  Violations were cited in the following area(s).            04H   \n",
       "3  Violations were cited in the following area(s).            06A   \n",
       "4  Violations were cited in the following area(s).            10F   \n",
       "\n",
       "                               VIOLATION DESCRIPTION CRITICAL FLAG SCORE  \\\n",
       "0  Food not protected from potential source of co...      Critical     8   \n",
       "1  Non-food contact surface improperly constructe...  Not Critical     8   \n",
       "2  Raw, cooked or prepared food is adulterated, c...      Critical    16   \n",
       "3  Personal cleanliness inadequate. Outer garment...      Critical    16   \n",
       "4  Non-food contact surface improperly constructe...  Not Critical    16   \n",
       "\n",
       "  GRADE  GRADE DATE RECORD DATE                        INSPECTION TYPE  \n",
       "0     A  12/30/2014  02/12/2015       Cycle Inspection / Re-inspection  \n",
       "1     A  12/30/2014  02/12/2015       Cycle Inspection / Re-inspection  \n",
       "2   NaN         NaN  02/12/2015  Cycle Inspection / Initial Inspection  \n",
       "3   NaN         NaN  02/12/2015  Cycle Inspection / Initial Inspection  \n",
       "4   NaN         NaN  02/12/2015  Cycle Inspection / Initial Inspection  "
      ]
     },
     "execution_count": 5,
     "metadata": {},
     "output_type": "execute_result"
    }
   ],
   "source": [
    "NYC_Restaurant = pd.read_csv('NYC_Restaurants.csv',index_col=[0],dtype=str)\n",
    "NYC_Restaurant.head()"
   ]
  },
  {
   "cell_type": "markdown",
   "id": "88d4164a-4552-4119-8bee-0bd3e4af21ce",
   "metadata": {},
   "source": [
    "# Question 1 -- Create a unique name for each restaurant."
   ]
  },
  {
   "cell_type": "markdown",
   "id": "8ba7f1c7",
   "metadata": {},
   "source": [
    "Combine the columns `DBA`, `BUILDING`, `STREET`, `ZIPCODE`, and `BORO` to create a `RESTAURANT` column"
   ]
  },
  {
   "cell_type": "code",
   "execution_count": 6,
   "id": "46ddc046-e5e4-48eb-90ef-2ef9d3f9d44b",
   "metadata": {},
   "outputs": [
    {
     "data": {
      "text/plain": [
       "0           WENDY'S 469 FLATBUSH AVENUE 11225 BROOKLYN\n",
       "1           WENDY'S 469 FLATBUSH AVENUE 11225 BROOKLYN\n",
       "2           WENDY'S 469 FLATBUSH AVENUE 11225 BROOKLYN\n",
       "3           WENDY'S 469 FLATBUSH AVENUE 11225 BROOKLYN\n",
       "4           WENDY'S 469 FLATBUSH AVENUE 11225 BROOKLYN\n",
       "5        TOV KOSHER KITCHEN 97-22 63 ROAD 11374 QUEENS\n",
       "6        TOV KOSHER KITCHEN 97-22 63 ROAD 11374 QUEENS\n",
       "7        TOV KOSHER KITCHEN 97-22 63 ROAD 11374 QUEENS\n",
       "8        TOV KOSHER KITCHEN 97-22 63 ROAD 11374 QUEENS\n",
       "9    BRUNOS ON THE BOULEVARD 8825 ASTORIA BOULEVARD...\n",
       "Name: RESTAURANT, dtype: object"
      ]
     },
     "execution_count": 6,
     "metadata": {},
     "output_type": "execute_result"
    }
   ],
   "source": [
    "NYC_Restaurant['RESTAURANT'] = NYC_Restaurant['DBA'] + \" \" + NYC_Restaurant['BUILDING'] + \" \" + NYC_Restaurant['STREET'] + \" \" + NYC_Restaurant['ZIPCODE']+ \" \" + NYC_Restaurant['BORO']\n",
    "NYC_Restaurant['RESTAURANT'].iloc[0:10]"
   ]
  },
  {
   "cell_type": "markdown",
   "id": "e8d2cf6b-3e6a-44b6-ad17-8cde34710aa3",
   "metadata": {},
   "source": [
    "# Question 2 -- How many restaurants are included in the data?"
   ]
  },
  {
   "cell_type": "markdown",
   "id": "16d31f63-e23f-4ade-9b11-23ab7c92630c",
   "metadata": {},
   "source": [
    "#### Method 1"
   ]
  },
  {
   "cell_type": "markdown",
   "id": "c2e5f458",
   "metadata": {},
   "source": [
    "--> Finding the value counts of RESTAURANTS and see how long the series is"
   ]
  },
  {
   "cell_type": "code",
   "execution_count": 7,
   "id": "31a7c31c-f3f1-4b8f-b072-b2a2918b60c1",
   "metadata": {},
   "outputs": [
    {
     "data": {
      "text/plain": [
       "10114"
      ]
     },
     "execution_count": 7,
     "metadata": {},
     "output_type": "execute_result"
    }
   ],
   "source": [
    "len(list((NYC_Restaurant['RESTAURANT'].value_counts())))"
   ]
  },
  {
   "cell_type": "markdown",
   "id": "ce2a7219-de62-4820-bef9-3d8c100d9e6a",
   "metadata": {},
   "source": [
    "#### Method 2"
   ]
  },
  {
   "cell_type": "markdown",
   "id": "31366461",
   "metadata": {},
   "source": [
    "--> Finding out how many unique values there are in RESTAURANTS"
   ]
  },
  {
   "cell_type": "code",
   "execution_count": 8,
   "id": "e941937a-2c34-4fba-8821-ddc969b8e80e",
   "metadata": {},
   "outputs": [
    {
     "data": {
      "text/plain": [
       "10114"
      ]
     },
     "execution_count": 8,
     "metadata": {},
     "output_type": "execute_result"
    }
   ],
   "source": [
    "NYC_Restaurant['RESTAURANT'].nunique()"
   ]
  },
  {
   "cell_type": "markdown",
   "id": "e86e618b-fd03-41b4-9c6e-e1aa2c186b64",
   "metadata": {},
   "source": [
    "#### Method 3"
   ]
  },
  {
   "cell_type": "code",
   "execution_count": 9,
   "id": "766d678b-cd45-49e5-9579-f82224b99661",
   "metadata": {},
   "outputs": [
    {
     "data": {
      "text/plain": [
       "10114"
      ]
     },
     "execution_count": 9,
     "metadata": {},
     "output_type": "execute_result"
    }
   ],
   "source": [
    "len(NYC_Restaurant['RESTAURANT'].unique())"
   ]
  },
  {
   "cell_type": "markdown",
   "id": "e1fbde20-a46b-462a-adfd-c8bbfc2db7fb",
   "metadata": {},
   "source": [
    "# Question 3 -- How many chains are there?"
   ]
  },
  {
   "cell_type": "markdown",
   "id": "452f4d2f",
   "metadata": {},
   "source": [
    "--> Creating an `ADDRESS` column"
   ]
  },
  {
   "cell_type": "code",
   "execution_count": 10,
   "id": "ec0f8bb0-0b95-4ba1-802d-b7b9cf09c6e8",
   "metadata": {},
   "outputs": [],
   "source": [
    "NYC_Restaurant['ADDRESS'] = NYC_Restaurant['BUILDING'] + \" \" + NYC_Restaurant['STREET'] + \" \" + NYC_Restaurant['ZIPCODE'] + \" \" + NYC_Restaurant['BORO']"
   ]
  },
  {
   "cell_type": "markdown",
   "id": "a1dea67b-ffb2-45c7-befe-f683ac40b71c",
   "metadata": {},
   "source": [
    "#### Method 1"
   ]
  },
  {
   "cell_type": "markdown",
   "id": "afcdd15c",
   "metadata": {},
   "source": [
    "--> Finding unique combinations of `DBA` and `ADDRESS` and later the length of those that have more than one occurance"
   ]
  },
  {
   "cell_type": "code",
   "execution_count": 11,
   "id": "a398a6c9-5ca1-4238-a712-5d84a68dd6b9",
   "metadata": {},
   "outputs": [
    {
     "data": {
      "text/plain": [
       "368"
      ]
     },
     "execution_count": 11,
     "metadata": {},
     "output_type": "execute_result"
    }
   ],
   "source": [
    "(NYC_Restaurant[['DBA', 'ADDRESS']].drop_duplicates().value_counts(['DBA']) > 1).sum()"
   ]
  },
  {
   "cell_type": "markdown",
   "id": "8338bca2-e0f3-46b3-9a83-7d3d74469af4",
   "metadata": {},
   "source": [
    "#### Method 2"
   ]
  },
  {
   "cell_type": "markdown",
   "id": "e39e07ea-12b2-4769-815f-570b1aa13ca7",
   "metadata": {},
   "source": [
    "--> Grouping the data by DBA and getting the count of unique restaurant per DBA     \n",
    "--> Renamed the column for better interpretability  \n",
    "--> Filtered the dataframe where Number_of_restaurants>1  "
   ]
  },
  {
   "cell_type": "code",
   "execution_count": 12,
   "id": "9bca2d0a-3cb6-44d5-a87c-0da876298532",
   "metadata": {},
   "outputs": [
    {
     "data": {
      "text/plain": [
       "368"
      ]
     },
     "execution_count": 12,
     "metadata": {},
     "output_type": "execute_result"
    }
   ],
   "source": [
    "NYC_Restaurant_counts=NYC_Restaurant.groupby('DBA')['ADDRESS'].agg(['nunique']).reset_index(drop=False) # find number of combinations\n",
    "NYC_Restaurant_counts.rename(columns={'nunique':'Number_of_restaurants'}, inplace=True) # rename column for chart\n",
    "NYC_Restaurant_Chain=NYC_Restaurant_counts[NYC_Restaurant_counts['Number_of_restaurants']>1] # filter to those that have a value greater than 1\n",
    "len(NYC_Restaurant_Chain) # find number of chains"
   ]
  },
  {
   "cell_type": "markdown",
   "id": "d14c6cd7-cabb-48df-a9d1-41975e25ecfb",
   "metadata": {},
   "source": [
    "# Question 4 -- Plot a bar graph of the top 20 most popular chains.\n"
   ]
  },
  {
   "cell_type": "markdown",
   "id": "1525590a",
   "metadata": {},
   "source": [
    "--> Sort and filter to top 20 chains and plot"
   ]
  },
  {
   "cell_type": "code",
   "execution_count": 13,
   "id": "31d23f79-b7be-44fc-b306-97dc59c05b56",
   "metadata": {},
   "outputs": [
    {
     "data": {
      "text/plain": [
       "<AxesSubplot:xlabel='DBA'>"
      ]
     },
     "execution_count": 13,
     "metadata": {},
     "output_type": "execute_result"
    },
    {
     "data": {
      "image/png": "[encoded data removed]",
      "text/plain": [
       "<Figure size 432x288 with 1 Axes>"
      ]
     },
     "metadata": {
      "needs_background": "light"
     },
     "output_type": "display_data"
    }
   ],
   "source": [
    "NYC_Restaurant_Chain_Top20=NYC_Restaurant_Chain.sort_values(by='Number_of_restaurants', ascending=False).head(20) # find chains with 20 highest count\n",
    "\n",
    "NYC_Restaurant_Chain_Top20.plot.bar(x='DBA', y='Number_of_restaurants', rot=90) # plot DBA against number of retaurants\n"
   ]
  },
  {
   "cell_type": "markdown",
   "id": "c3a4032b-548e-468f-841c-1cd825156818",
   "metadata": {},
   "source": [
    "# Question 5 -- What fraction of all restaurants are chain restaurants?"
   ]
  },
  {
   "cell_type": "markdown",
   "id": "52a8c0e9-ebb1-4217-bf54-5def9000f264",
   "metadata": {},
   "source": [
    "--> Used nunique() to get the count of distinct Restaurants   \n",
    "--> Got the total number of chained Restaurants   \n",
    "--> To find the % of chained Restaurants, we divided Step 1 by Step 2"
   ]
  },
  {
   "cell_type": "code",
   "execution_count": 14,
   "id": "1e905764-2c82-4b3b-b1fb-f0555c93be69",
   "metadata": {},
   "outputs": [],
   "source": [
    "Total_Restaurants=NYC_Restaurant['RESTAURANT'].nunique()\n",
    "Chained_Restaurants=NYC_Restaurant_Chain['Number_of_restaurants'].sum()"
   ]
  },
  {
   "cell_type": "code",
   "execution_count": 15,
   "id": "87bb742c-f30c-404d-baaa-358016c8ed89",
   "metadata": {},
   "outputs": [
    {
     "data": {
      "text/plain": [
       "16.47221672928614"
      ]
     },
     "execution_count": 15,
     "metadata": {},
     "output_type": "execute_result"
    }
   ],
   "source": [
    "Perc_of_Chained_Restaurants=(Chained_Restaurants/Total_Restaurants)*100\n",
    "Perc_of_Chained_Restaurants"
   ]
  },
  {
   "cell_type": "markdown",
   "id": "0dd2cf8c-1ee1-4d98-b267-b7a99b9e1609",
   "metadata": {},
   "source": [
    "# Question 6 -- Plot the number of non-chain restaurants in each BORO"
   ]
  },
  {
   "cell_type": "markdown",
   "id": "76db2d45-c3ea-4ecb-af3f-faca05c977f6",
   "metadata": {},
   "source": [
    "--> Finding the  Non Chained DBA using set and set substraction    \n",
    "--> Filtering the Dataset  where DBA is equal to the list containing NON-Chained DBA     \n",
    "--> Filtering the Dataset further to store all DBA's except \"Missing\"    \n",
    "--> Grouping the Resultant Dataframe to by BORO and counting the number of unique non chained Restaurants in each BORO"
   ]
  },
  {
   "cell_type": "code",
   "execution_count": 16,
   "id": "9af5826a-ad73-40e6-a4c5-9e6f6566f9c0",
   "metadata": {},
   "outputs": [],
   "source": [
    "# Finding out Non Chained DBA/Restaurant\n",
    "\n",
    "Chained_DBA=list(NYC_Restaurant_Chain['DBA'])\n",
    "All_DBA=list(NYC_Restaurant['DBA'])\n",
    "Non_Chained_DBA = list(set(All_DBA) - set(Chained_DBA))"
   ]
  },
  {
   "cell_type": "code",
   "execution_count": 17,
   "id": "2f3dc229-4934-4b5c-9e9c-b91bd26fdefc",
   "metadata": {},
   "outputs": [
    {
     "data": {
      "text/plain": [
       "<AxesSubplot:xlabel='BORO'>"
      ]
     },
     "execution_count": 17,
     "metadata": {},
     "output_type": "execute_result"
    },
    {
     "data": {
      "image/png": "[encoded data removed]",
      "text/plain": [
       "<Figure size 432x288 with 1 Axes>"
      ]
     },
     "metadata": {
      "needs_background": "light"
     },
     "output_type": "display_data"
    }
   ],
   "source": [
    "NYC_Non_Chained_Restaurant = NYC_Restaurant[NYC_Restaurant['DBA'].isin(Non_Chained_DBA)]\n",
    "NYC_Non_Chained_Restaurant = NYC_Non_Chained_Restaurant[NYC_Non_Chained_Restaurant['BORO']!='Missing']\n",
    "NYC_Non_Chained_Restaurant[['BORO','RESTAURANT']].drop_duplicates().groupby('BORO').agg('count').reset_index(drop=False).sort_values(by='RESTAURANT', ascending=False).plot.bar(x='BORO', y='RESTAURANT', rot=90)"
   ]
  },
  {
   "cell_type": "markdown",
   "id": "754e4818-41cf-429f-b68d-60add4b797c1",
   "metadata": {},
   "source": [
    "# Question 7 -- Plot the fraction of non-chain restaurants in each boro."
   ]
  },
  {
   "cell_type": "markdown",
   "id": "52506313-662e-4808-beee-1e423dadb533",
   "metadata": {},
   "source": [
    "--> Grouping the NYC_Non_Chained_Restaurant Dataframe  by BORO and counting the number of unique non chained Restaurants in each BORO     \n",
    "--> Finding the Total Restaurants by BORO in NYC_Restaurant    \n",
    "--> Inner Joining Total_Restaurants_per_BORO with Non_chained_Restaurants_per_BORO to get a combined table   \n",
    "--> Dividing RESTAURANT_non_chained/RESTAURANT_total to get the fraction_non_chained per BORO"
   ]
  },
  {
   "cell_type": "code",
   "execution_count": 18,
   "id": "735d77f3-9e9c-4457-992a-1815232033ba",
   "metadata": {},
   "outputs": [
    {
     "data": {
      "text/plain": [
       "<AxesSubplot:xlabel='BORO'>"
      ]
     },
     "execution_count": 18,
     "metadata": {},
     "output_type": "execute_result"
    },
    {
     "data": {
      "image/png": "[encoded data removed]",
      "text/plain": [
       "<Figure size 432x288 with 1 Axes>"
      ]
     },
     "metadata": {
      "needs_background": "light"
     },
     "output_type": "display_data"
    }
   ],
   "source": [
    "#Grouping the NYC_Non_Chained_Restaurant Dataframe  by BORO and counting the number of unique non chained Restaurants in each BORO\n",
    "Non_chained_Restaurants_per_BORO=NYC_Non_Chained_Restaurant[['BORO','RESTAURANT']].drop_duplicates().groupby('BORO').agg('count').reset_index(drop=False)\n",
    "\n",
    "#Finding the Total Restaurants by BORO in NYC_Restaurant \n",
    "Total_Restaurants_per_BORO=NYC_Restaurant[['BORO','RESTAURANT']].drop_duplicates().groupby('BORO').agg('count').reset_index(drop=False)\n",
    "\n",
    "#Inner Joining Total_Restaurants_per_BORO with Non_chained_Restaurants_per_BORO to get a combined table\n",
    "Restaurants_per_BORO_merged=Total_Restaurants_per_BORO.merge(Non_chained_Restaurants_per_BORO, left_on='BORO', right_on='BORO',suffixes=('_total', '_non_chained'))\n",
    "\n",
    "#Dividing RESTAURANT_non_chained/RESTAURANT_total to get the fraction_non_chained per BORO\n",
    "Restaurants_per_BORO_merged['fraction_non_chained']=Restaurants_per_BORO_merged['RESTAURANT_non_chained']/Restaurants_per_BORO_merged['RESTAURANT_total']\n",
    "\n",
    "Restaurants_per_BORO_merged.sort_values(by='fraction_non_chained', ascending=False).plot.bar(x='BORO', y='fraction_non_chained', rot=90)"
   ]
  },
  {
   "cell_type": "markdown",
   "id": "ccf611d7-7534-461c-9fb0-6b9ebf0c4b00",
   "metadata": {},
   "source": [
    "##### Is the boro with the most independent restaurants also the one with the highest ratio of independent restaurants? - \n",
    "###### No, As We can see in the below table, Manhattan has the highest number of Non_Chained_restaurants (3323) with Fraction being 0.83052 but BROOKLYN has highest fraction (0.86) followed by Queens (0.84)"
   ]
  },
  {
   "cell_type": "code",
   "execution_count": 19,
   "id": "8e834780-f906-49f7-aa1b-70ae1ed24705",
   "metadata": {},
   "outputs": [
    {
     "data": {
      "text/html": [
       "<div>\n",
       "<style scoped>\n",
       "    .dataframe tbody tr th:only-of-type {\n",
       "        vertical-align: middle;\n",
       "    }\n",
       "\n",
       "    .dataframe tbody tr th {\n",
       "        vertical-align: top;\n",
       "    }\n",
       "\n",
       "    .dataframe thead th {\n",
       "        text-align: right;\n",
       "    }\n",
       "</style>\n",
       "<table border=\"1\" class=\"dataframe\">\n",
       "  <thead>\n",
       "    <tr style=\"text-align: right;\">\n",
       "      <th></th>\n",
       "      <th>BORO</th>\n",
       "      <th>RESTAURANT_total</th>\n",
       "      <th>RESTAURANT_non_chained</th>\n",
       "      <th>fraction_non_chained</th>\n",
       "    </tr>\n",
       "  </thead>\n",
       "  <tbody>\n",
       "    <tr>\n",
       "      <th>0</th>\n",
       "      <td>BRONX</td>\n",
       "      <td>855</td>\n",
       "      <td>659</td>\n",
       "      <td>0.770760</td>\n",
       "    </tr>\n",
       "    <tr>\n",
       "      <th>1</th>\n",
       "      <td>BROOKLYN</td>\n",
       "      <td>2529</td>\n",
       "      <td>2180</td>\n",
       "      <td>0.862001</td>\n",
       "    </tr>\n",
       "    <tr>\n",
       "      <th>2</th>\n",
       "      <td>MANHATTAN</td>\n",
       "      <td>4001</td>\n",
       "      <td>3323</td>\n",
       "      <td>0.830542</td>\n",
       "    </tr>\n",
       "    <tr>\n",
       "      <th>3</th>\n",
       "      <td>QUEENS</td>\n",
       "      <td>2321</td>\n",
       "      <td>1968</td>\n",
       "      <td>0.847910</td>\n",
       "    </tr>\n",
       "    <tr>\n",
       "      <th>4</th>\n",
       "      <td>STATEN ISLAND</td>\n",
       "      <td>394</td>\n",
       "      <td>312</td>\n",
       "      <td>0.791878</td>\n",
       "    </tr>\n",
       "  </tbody>\n",
       "</table>\n",
       "</div>"
      ],
      "text/plain": [
       "            BORO  RESTAURANT_total  RESTAURANT_non_chained  \\\n",
       "0          BRONX               855                     659   \n",
       "1       BROOKLYN              2529                    2180   \n",
       "2      MANHATTAN              4001                    3323   \n",
       "3         QUEENS              2321                    1968   \n",
       "4  STATEN ISLAND               394                     312   \n",
       "\n",
       "   fraction_non_chained  \n",
       "0              0.770760  \n",
       "1              0.862001  \n",
       "2              0.830542  \n",
       "3              0.847910  \n",
       "4              0.791878  "
      ]
     },
     "execution_count": 19,
     "metadata": {},
     "output_type": "execute_result"
    }
   ],
   "source": [
    "Restaurants_per_BORO_merged # To show that boro with the most independent restaurants are not also the one with the highest ratio of independent restaurants"
   ]
  },
  {
   "cell_type": "markdown",
   "id": "8a9298a4-12a5-4b45-abf1-83d0976a9b4f",
   "metadata": {},
   "source": [
    "# Question 8 -- Plot the popularity of cuisines."
   ]
  },
  {
   "cell_type": "markdown",
   "id": "77c44dbd-8ab9-4f2f-b81b-68bc30049fdc",
   "metadata": {},
   "source": [
    "--> Finding the count of Restaurants serving a particular Cuisine by grouping NYC_Restaurant by Cuisine and getting the count.    \n",
    "--> Plotting Bargraph for Top 20 Cuisines. "
   ]
  },
  {
   "cell_type": "code",
   "execution_count": 20,
   "id": "79bb3dfc-0d59-4370-a45f-a168286d62a0",
   "metadata": {
    "scrolled": true
   },
   "outputs": [
    {
     "data": {
      "text/plain": [
       "<AxesSubplot:xlabel='CUISINE DESCRIPTION'>"
      ]
     },
     "execution_count": 20,
     "metadata": {},
     "output_type": "execute_result"
    },
    {
     "data": {
      "image/png": "[encoded data removed]",
      "text/plain": [
       "<Figure size 432x288 with 1 Axes>"
      ]
     },
     "metadata": {
      "needs_background": "light"
     },
     "output_type": "display_data"
    }
   ],
   "source": [
    "#Finding the count of Restaurants serving a particular Cuisine by grouping NYC_Restaurant by Cuisine and getting the count. \n",
    "NYC_Restaurant_Cuisines=NYC_Restaurant[['CUISINE DESCRIPTION','RESTAURANT']].drop_duplicates().groupby('CUISINE DESCRIPTION').agg('count').reset_index(drop=False).sort_values(by='RESTAURANT', ascending=False)\n",
    "\n",
    "NYC_Restaurant_Cuisines.head(20).plot.bar(x='CUISINE DESCRIPTION', y='RESTAURANT', rot=90)"
   ]
  },
  {
   "cell_type": "markdown",
   "id": "7b6f28c5-2b79-4e28-89dc-e54610ff62fa",
   "metadata": {},
   "source": [
    "##### Which cuisines are the most well-represented among all restaurants?\n",
    "###### American, Chinese and Coffee/Tea are 3 most popular Cuisine "
   ]
  },
  {
   "cell_type": "markdown",
   "id": "069543af-5aa5-4992-8b4b-9b69ca5ca2c8",
   "metadata": {},
   "source": [
    "# Question 9 -- Plot the cuisines among restaurants which never got cited for violations"
   ]
  },
  {
   "cell_type": "markdown",
   "id": "3eecf3f3-10f1-4066-88c4-0af07a0117ac",
   "metadata": {},
   "source": [
    "--> Grouping NYC_Restaurant by Restaurant and counting the number of Violations by each Restaurant     \n",
    "--> Filtering the resultant Dataframe where Count of Violations ==0 to get NYC_Restaurant_NO_VIOLATIONS Dataframe    \n",
    "--> Inner Joining NYC_Restaurant and NYC_Restaurant_NO_VIOLATIONS to get data only for restaurants which never had Violations   \n",
    "--> Grouping the Resultant Dataframe by Cuisines and getting the count of unique Restaurants serving the particular Cuisine   "
   ]
  },
  {
   "cell_type": "code",
   "execution_count": 21,
   "id": "4d9be457-97cf-4cfb-93f2-6b3a9b932136",
   "metadata": {},
   "outputs": [
    {
     "name": "stderr",
     "output_type": "stream",
     "text": [
      "/var/folders/wh/f1gf_vp175112kx_fb3lwg5c0000gn/T/ipykernel_52652/2052988172.py:6: SettingWithCopyWarning: \n",
      "A value is trying to be set on a copy of a slice from a DataFrame\n",
      "\n",
      "See the caveats in the documentation: https://pandas.pydata.org/pandas-docs/stable/user_guide/indexing.html#returning-a-view-versus-a-copy\n",
      "  NYC_Restaurant_NO_VIOLATIONS.rename(columns={'VIOLATION CODE':'COUNT_VIOLATIONS'}, inplace=True)\n"
     ]
    }
   ],
   "source": [
    "#Grouping NYC_Restaurant by Restaurant and counting the number of Violations by each Restaurant\n",
    "NYC_Restaurant_VIOLATIONS=NYC_Restaurant[['RESTAURANT','VIOLATION CODE']].groupby('RESTAURANT').agg('count').reset_index(drop=False).sort_values(by='RESTAURANT', ascending=False)\n",
    "\n",
    "#Filtering the Dataframe where Count of Violations ==0 t\n",
    "NYC_Restaurant_NO_VIOLATIONS=(NYC_Restaurant_VIOLATIONS[NYC_Restaurant_VIOLATIONS['VIOLATION CODE']==0])\n",
    "NYC_Restaurant_NO_VIOLATIONS.rename(columns={'VIOLATION CODE':'COUNT_VIOLATIONS'}, inplace=True)"
   ]
  },
  {
   "cell_type": "code",
   "execution_count": 22,
   "id": "ceaadd4b-577b-477b-ba69-efc8a99fb779",
   "metadata": {},
   "outputs": [],
   "source": [
    "#Inner Joining NYC_Restaurant and NYC_Restaurant_NO_VIOLATIONS to get data only for restaurants which never had Violations   \n",
    "NYC_Restaurant_NO_VIOLATIONS_data=NYC_Restaurant.merge( NYC_Restaurant_NO_VIOLATIONS, on='RESTAURANT')"
   ]
  },
  {
   "cell_type": "code",
   "execution_count": 23,
   "id": "a9ce1698-4935-4ec1-84af-6b6798298111",
   "metadata": {},
   "outputs": [
    {
     "data": {
      "text/plain": [
       "<AxesSubplot:xlabel='CUISINE DESCRIPTION'>"
      ]
     },
     "execution_count": 23,
     "metadata": {},
     "output_type": "execute_result"
    },
    {
     "data": {
      "image/png": "[encoded data removed]",
      "text/plain": [
       "<Figure size 432x288 with 1 Axes>"
      ]
     },
     "metadata": {
      "needs_background": "light"
     },
     "output_type": "display_data"
    }
   ],
   "source": [
    "# Grouping the Resultant Dataframe by Cuisines and getting the count of unique Restaurants serving the particular Cuisine  \n",
    "NYC_Clean_Restaurants_Cuisines=NYC_Restaurant_NO_VIOLATIONS_data[['CUISINE DESCRIPTION','RESTAURANT']].drop_duplicates().groupby('CUISINE DESCRIPTION').agg('count').reset_index(drop=False).sort_values(by='RESTAURANT', ascending=False)\n",
    "NYC_Clean_Restaurants_Cuisines.head(20).plot.bar(x='CUISINE DESCRIPTION', y='RESTAURANT', rot=90)"
   ]
  },
  {
   "cell_type": "markdown",
   "id": "5ab2ed3a-ca7a-43d0-b9a0-90c8778340b6",
   "metadata": {},
   "source": [
    "# Question 10 -- What cuisines tend to be the “cleanest”?"
   ]
  },
  {
   "cell_type": "markdown",
   "id": "f8dde833-9b5f-44cc-abdf-c5d99d70547d",
   "metadata": {},
   "source": [
    "--> Finding the cuisines being served in more than 20 Restaurants and count of number of restaurants where they are beng served     \n",
    "--> Finding the Cuisines which are being served in Clean Restaurants , count of number of restaurants where they are beng served    \n",
    "--> Joining it with NYC_Restaurant_Cuisines_atleast_20rest to get the Total Number of Restaurants serving the same Cuisine.     \n",
    "--> Dividing Step 2 by Step 1 to get the Clean Ratio"
   ]
  },
  {
   "cell_type": "code",
   "execution_count": 24,
   "id": "c66f526d-a222-4bdb-acf4-9d01aa05ce63",
   "metadata": {
    "scrolled": true
   },
   "outputs": [
    {
     "data": {
      "text/html": [
       "<div>\n",
       "<style scoped>\n",
       "    .dataframe tbody tr th:only-of-type {\n",
       "        vertical-align: middle;\n",
       "    }\n",
       "\n",
       "    .dataframe tbody tr th {\n",
       "        vertical-align: top;\n",
       "    }\n",
       "\n",
       "    .dataframe thead th {\n",
       "        text-align: right;\n",
       "    }\n",
       "</style>\n",
       "<table border=\"1\" class=\"dataframe\">\n",
       "  <thead>\n",
       "    <tr style=\"text-align: right;\">\n",
       "      <th></th>\n",
       "      <th>CUISINE DESCRIPTION</th>\n",
       "      <th>RESTAURANT_total</th>\n",
       "      <th>RESTAURANT_clean</th>\n",
       "      <th>Clean_Ratio</th>\n",
       "    </tr>\n",
       "  </thead>\n",
       "  <tbody>\n",
       "    <tr>\n",
       "      <th>37</th>\n",
       "      <td>Soul Food</td>\n",
       "      <td>22</td>\n",
       "      <td>2</td>\n",
       "      <td>0.090909</td>\n",
       "    </tr>\n",
       "    <tr>\n",
       "      <th>35</th>\n",
       "      <td>Vietnamese/Cambodian/Malaysia</td>\n",
       "      <td>32</td>\n",
       "      <td>2</td>\n",
       "      <td>0.062500</td>\n",
       "    </tr>\n",
       "    <tr>\n",
       "      <th>24</th>\n",
       "      <td>Other</td>\n",
       "      <td>103</td>\n",
       "      <td>6</td>\n",
       "      <td>0.058252</td>\n",
       "    </tr>\n",
       "    <tr>\n",
       "      <th>40</th>\n",
       "      <td>Soups &amp; Sandwiches</td>\n",
       "      <td>21</td>\n",
       "      <td>1</td>\n",
       "      <td>0.047619</td>\n",
       "    </tr>\n",
       "    <tr>\n",
       "      <th>39</th>\n",
       "      <td>Barbecue</td>\n",
       "      <td>21</td>\n",
       "      <td>1</td>\n",
       "      <td>0.047619</td>\n",
       "    </tr>\n",
       "    <tr>\n",
       "      <th>38</th>\n",
       "      <td>Continental</td>\n",
       "      <td>21</td>\n",
       "      <td>1</td>\n",
       "      <td>0.047619</td>\n",
       "    </tr>\n",
       "    <tr>\n",
       "      <th>18</th>\n",
       "      <td>Asian</td>\n",
       "      <td>146</td>\n",
       "      <td>6</td>\n",
       "      <td>0.041096</td>\n",
       "    </tr>\n",
       "    <tr>\n",
       "      <th>1</th>\n",
       "      <td>Chinese</td>\n",
       "      <td>1098</td>\n",
       "      <td>42</td>\n",
       "      <td>0.038251</td>\n",
       "    </tr>\n",
       "    <tr>\n",
       "      <th>31</th>\n",
       "      <td>Greek</td>\n",
       "      <td>55</td>\n",
       "      <td>2</td>\n",
       "      <td>0.036364</td>\n",
       "    </tr>\n",
       "    <tr>\n",
       "      <th>36</th>\n",
       "      <td>Peruvian</td>\n",
       "      <td>28</td>\n",
       "      <td>1</td>\n",
       "      <td>0.035714</td>\n",
       "    </tr>\n",
       "  </tbody>\n",
       "</table>\n",
       "</div>"
      ],
      "text/plain": [
       "              CUISINE DESCRIPTION  RESTAURANT_total  RESTAURANT_clean  \\\n",
       "37                      Soul Food                22                 2   \n",
       "35  Vietnamese/Cambodian/Malaysia                32                 2   \n",
       "24                          Other               103                 6   \n",
       "40             Soups & Sandwiches                21                 1   \n",
       "39                       Barbecue                21                 1   \n",
       "38                    Continental                21                 1   \n",
       "18                          Asian               146                 6   \n",
       "1                         Chinese              1098                42   \n",
       "31                          Greek                55                 2   \n",
       "36                       Peruvian                28                 1   \n",
       "\n",
       "    Clean_Ratio  \n",
       "37     0.090909  \n",
       "35     0.062500  \n",
       "24     0.058252  \n",
       "40     0.047619  \n",
       "39     0.047619  \n",
       "38     0.047619  \n",
       "18     0.041096  \n",
       "1      0.038251  \n",
       "31     0.036364  \n",
       "36     0.035714  "
      ]
     },
     "execution_count": 24,
     "metadata": {},
     "output_type": "execute_result"
    }
   ],
   "source": [
    "#Finding out Cuisines which are being served in more than 20 restaurants\n",
    "NYC_Restaurant_Cuisines_atleast_20rest=NYC_Restaurant_Cuisines[NYC_Restaurant_Cuisines['RESTAURANT']>20]\n",
    "\n",
    "#Inner Joining Table which stores Cuisines being served in more than 20 restaurants with Table storing Cuisines being served in clean restaurants\n",
    "Restaurants_per_Cuisine_merged=NYC_Restaurant_Cuisines_atleast_20rest.merge(NYC_Clean_Restaurants_Cuisines, on='CUISINE DESCRIPTION',suffixes=('_total', '_clean'))\n",
    "\n",
    "#Clean Ratio= Total Restaurants/Clean Restaurants\n",
    "Restaurants_per_Cuisine_merged['Clean_Ratio']=Restaurants_per_Cuisine_merged['RESTAURANT_clean']/Restaurants_per_Cuisine_merged['RESTAURANT_total']\n",
    "\n",
    "Restaurants_per_Cuisine_merged.sort_values(by='Clean_Ratio', ascending=False).head(10)"
   ]
  },
  {
   "cell_type": "markdown",
   "id": "5be1944d",
   "metadata": {},
   "source": [
    "# Question 11 -- What are the most common violations in each borough?"
   ]
  },
  {
   "cell_type": "code",
   "execution_count": 25,
   "id": "3ba48aba",
   "metadata": {
    "scrolled": true
   },
   "outputs": [
    {
     "data": {
      "text/plain": [
       "BORO\n",
       "BRONX            Non-food contact surface improperly constructe...\n",
       "BROOKLYN         Non-food contact surface improperly constructe...\n",
       "MANHATTAN        Non-food contact surface improperly constructe...\n",
       "QUEENS           Non-food contact surface improperly constructe...\n",
       "STATEN ISLAND    Non-food contact surface improperly constructe...\n",
       "dtype: object"
      ]
     },
     "execution_count": 25,
     "metadata": {},
     "output_type": "execute_result"
    }
   ],
   "source": [
    "#Remove rows where the borough is listed as \"Missing\" by changing the \"BORO\" value for these rows to NaN\n",
    "missing_mask = (NYC_Restaurant['BORO'] == 'Missing')\n",
    "NYC_Restaurant_complete_boro = NYC_Restaurant.copy()\n",
    "NYC_Restaurant_complete_boro.loc[missing_mask, 'BORO'] = np.nan\n",
    "BORO = NYC_Restaurant_complete_boro[\"BORO\"] # create a series with all the boroughs\n",
    "VIO = NYC_Restaurant_complete_boro[\"VIOLATION DESCRIPTION\"] #create a series with all the violations\n",
    "Crosstab = pd.crosstab(VIO,BORO) #create a crosstab with the violations as the index and the boroughs as the columns and the counts in the middle\n",
    "Crosstab.idxmax() #find the indexes max for each column"
   ]
  },
  {
   "cell_type": "markdown",
   "id": "f72c73fd",
   "metadata": {},
   "source": [
    "# Question 12 -- What are the most common violations per borough, after normalizing for the relative abundance of each violation?"
   ]
  },
  {
   "cell_type": "code",
   "execution_count": 26,
   "id": "c0bada3f",
   "metadata": {},
   "outputs": [
    {
     "data": {
      "text/html": [
       "<div>\n",
       "<style scoped>\n",
       "    .dataframe tbody tr th:only-of-type {\n",
       "        vertical-align: middle;\n",
       "    }\n",
       "\n",
       "    .dataframe tbody tr th {\n",
       "        vertical-align: top;\n",
       "    }\n",
       "\n",
       "    .dataframe thead th {\n",
       "        text-align: right;\n",
       "    }\n",
       "</style>\n",
       "<table border=\"1\" class=\"dataframe\">\n",
       "  <thead>\n",
       "    <tr style=\"text-align: right;\">\n",
       "      <th></th>\n",
       "      <th>BORO</th>\n",
       "      <th>VIOLATION DESCRIPTION</th>\n",
       "      <th>value</th>\n",
       "    </tr>\n",
       "  </thead>\n",
       "  <tbody>\n",
       "    <tr>\n",
       "      <th>0</th>\n",
       "      <td>BRONX</td>\n",
       "      <td>Unprotected food re-served.</td>\n",
       "      <td>0.500000</td>\n",
       "    </tr>\n",
       "    <tr>\n",
       "      <th>1</th>\n",
       "      <td>BROOKLYN</td>\n",
       "      <td>Precooked potentially hazardous food from comm...</td>\n",
       "      <td>0.714286</td>\n",
       "    </tr>\n",
       "    <tr>\n",
       "      <th>2</th>\n",
       "      <td>MANHATTAN</td>\n",
       "      <td>Out-of package sale of tobacco products observed.</td>\n",
       "      <td>1.000000</td>\n",
       "    </tr>\n",
       "    <tr>\n",
       "      <th>3</th>\n",
       "      <td>MANHATTAN</td>\n",
       "      <td>Potable water supply inadequate. Water or ice ...</td>\n",
       "      <td>1.000000</td>\n",
       "    </tr>\n",
       "    <tr>\n",
       "      <th>4</th>\n",
       "      <td>QUEENS</td>\n",
       "      <td>Caloric content range (minimum to maximum) not...</td>\n",
       "      <td>1.000000</td>\n",
       "    </tr>\n",
       "    <tr>\n",
       "      <th>5</th>\n",
       "      <td>QUEENS</td>\n",
       "      <td>Harmful, noxious gas or vapor detected. CO ~1 ...</td>\n",
       "      <td>1.000000</td>\n",
       "    </tr>\n",
       "    <tr>\n",
       "      <th>6</th>\n",
       "      <td>QUEENS</td>\n",
       "      <td>Raw food not properly washed prior to serving.</td>\n",
       "      <td>1.000000</td>\n",
       "    </tr>\n",
       "    <tr>\n",
       "      <th>7</th>\n",
       "      <td>STATEN ISLAND</td>\n",
       "      <td>Eggs found dirty/cracked; liquid, frozen or po...</td>\n",
       "      <td>0.090909</td>\n",
       "    </tr>\n",
       "  </tbody>\n",
       "</table>\n",
       "</div>"
      ],
      "text/plain": [
       "            BORO                              VIOLATION DESCRIPTION     value\n",
       "0          BRONX                        Unprotected food re-served.  0.500000\n",
       "1       BROOKLYN  Precooked potentially hazardous food from comm...  0.714286\n",
       "2      MANHATTAN  Out-of package sale of tobacco products observed.  1.000000\n",
       "3      MANHATTAN  Potable water supply inadequate. Water or ice ...  1.000000\n",
       "4         QUEENS  Caloric content range (minimum to maximum) not...  1.000000\n",
       "5         QUEENS  Harmful, noxious gas or vapor detected. CO ~1 ...  1.000000\n",
       "6         QUEENS     Raw food not properly washed prior to serving.  1.000000\n",
       "7  STATEN ISLAND  Eggs found dirty/cracked; liquid, frozen or po...  0.090909"
      ]
     },
     "execution_count": 26,
     "metadata": {},
     "output_type": "execute_result"
    }
   ],
   "source": [
    "Crosstab_normalized = pd.crosstab(VIO,BORO ,normalize= \"index\" ).reset_index()#Create a crosstab that has normalized for Violations\n",
    "\n",
    "# Soring the names of BORO in a list\n",
    "BORO_LIST=list(Crosstab_normalized.columns)[1:]\n",
    "\n",
    "#Using melt() to convert the Crosstab_normalized dataframe from wide to long format\n",
    "Melted_Crosstab=pd.melt(Crosstab_normalized,id_vars='VIOLATION DESCRIPTION', value_vars=BORO_LIST)\n",
    "\n",
    "#Getting the maximum frequency of violation for each BORO\n",
    "Max_Violation_frequency_per_BORO= Melted_Crosstab.groupby(['BORO'])['value'].agg('max').reset_index()\n",
    "\n",
    "#Joining Max_Violation_frequency_per_BORO with Melted_Crosstab to get the Violation Description for max frequency to \"get the Violations with same value per BORO (Tie)\"\n",
    "Final_df=Melted_Crosstab.merge(Max_Violation_frequency_per_BORO, on=['BORO', 'value'])\n",
    "Final_df[['BORO','VIOLATION DESCRIPTION','value']]"
   ]
  },
  {
   "cell_type": "markdown",
   "id": "6e5d35c9",
   "metadata": {},
   "source": [
    "# Question 13 -- How many phone area codes correspond to a single zipcode?"
   ]
  },
  {
   "cell_type": "code",
   "execution_count": 27,
   "id": "eefb31a1",
   "metadata": {},
   "outputs": [
    {
     "data": {
      "text/plain": [
       "34"
      ]
     },
     "execution_count": 27,
     "metadata": {},
     "output_type": "execute_result"
    }
   ],
   "source": [
    "#Make a function that extracts only the area code of a phone number (first 3 digits)\n",
    "def get_area_code(phone_number):\n",
    "    return phone_number[:3]\n",
    "\n",
    "#Apply the get_area_code() function to get all area codes in the data set\n",
    "NYC_Restaurant['AREA CODE'] = NYC_Restaurant['PHONE'].map(get_area_code)\n",
    "\n",
    "#Make a crosstab that determines the count of combinations of area codes and zip codes. Return True if the count is greater\n",
    "#than 0. Sum up the number of Trues for each row and return True if the row sum is exactly 1 (meaning that the area code only\n",
    "#matched with one zip code)\n",
    "single_zip_booleans = (pd.crosstab(NYC_Restaurant['AREA CODE'],NYC_Restaurant['ZIPCODE'])>0).sum(axis=1)==1\n",
    "\n",
    "#Sum the number of Trues from above to get the total number of area codes that correspond to one zip code\n",
    "sum(single_zip_booleans)"
   ]
  },
  {
   "cell_type": "markdown",
   "id": "e5541087",
   "metadata": {},
   "source": [
    "# Question 14 -- Find common misspellings of street names"
   ]
  },
  {
   "cell_type": "code",
   "execution_count": 28,
   "id": "84bd59fd",
   "metadata": {},
   "outputs": [],
   "source": [
    "#Return only the last word in a street name\n",
    "def last_word_street(street_name):\n",
    "    return street_name.split()[-1]\n",
    "\n",
    "\n",
    "#Take out the last word in a street name to get the base left over\n",
    "def street_base(street_name):\n",
    "    last_word = street_name.split()[-1]\n",
    "    return street_name.rstrip(last_word).rstrip(' ')\n",
    "\n",
    "\n",
    "#Create new \"STREET TYPE\", \"STREET BASE\", and \"STREET BASE & ZIP COLUMNS\"\n",
    "NYC_Restaurant['STREET TYPE'] = NYC_Restaurant['STREET'].map(last_word_street)\n",
    "NYC_Restaurant['STREET BASE'] = NYC_Restaurant['STREET'].map(street_base)\n",
    "NYC_Restaurant['STREET BASE & ZIP'] = NYC_Restaurant['STREET BASE'] + ' ' + NYC_Restaurant['ZIPCODE']\n",
    "\n",
    "\n",
    "#Make sure that we only look at rows where the street base is non-empty\n",
    "street_base_nonempty_mask = NYC_Restaurant['STREET BASE']!=''\n",
    "street_table = NYC_Restaurant[street_base_nonempty_mask]\n",
    "\n",
    "\n",
    "#Remove any duplicates and only include the newly created columns\n",
    "street_table = street_table[['STREET BASE & ZIP','ZIPCODE','STREET TYPE']].drop_duplicates()\n",
    "\n",
    "\n",
    "#Merge the above table with itself\n",
    "street_table_merged = street_table.merge(street_table,on='STREET BASE & ZIP')\n",
    "\n",
    "\n",
    "#Only include rows where the two \"STREET TYPE\" columns don't match up\n",
    "different_street_types = street_table_merged[street_table_merged['STREET TYPE_x']!=street_table_merged['STREET TYPE_y']]\n",
    "\n",
    "\n",
    "#Create a cross tab showing the combinations of \"STREET TYPE\" for each \"STREET BASE & ZIP\" row\n",
    "street_crosstab = pd.crosstab(different_street_types['STREET TYPE_x'],different_street_types['STREET TYPE_y']).reset_index()"
   ]
  },
  {
   "cell_type": "code",
   "execution_count": 30,
   "id": "689dc47c-d829-4ee7-9426-09649ab3179a",
   "metadata": {},
   "outputs": [
    {
     "data": {
      "text/html": [
       "<div>\n",
       "<style scoped>\n",
       "    .dataframe tbody tr th:only-of-type {\n",
       "        vertical-align: middle;\n",
       "    }\n",
       "\n",
       "    .dataframe tbody tr th {\n",
       "        vertical-align: top;\n",
       "    }\n",
       "\n",
       "    .dataframe thead th {\n",
       "        text-align: right;\n",
       "    }\n",
       "</style>\n",
       "<table border=\"1\" class=\"dataframe\">\n",
       "  <thead>\n",
       "    <tr style=\"text-align: right;\">\n",
       "      <th></th>\n",
       "      <th>STREET TYPE_y</th>\n",
       "      <th>STREET TYPE_x</th>\n",
       "    </tr>\n",
       "  </thead>\n",
       "  <tbody>\n",
       "    <tr>\n",
       "      <th>0</th>\n",
       "      <td>AVE</td>\n",
       "      <td>AVENUE</td>\n",
       "    </tr>\n",
       "    <tr>\n",
       "      <th>1</th>\n",
       "      <td>BOULEVARD</td>\n",
       "      <td>BLVD</td>\n",
       "    </tr>\n",
       "    <tr>\n",
       "      <th>2</th>\n",
       "      <td>BULEVARD</td>\n",
       "      <td>BLVD</td>\n",
       "    </tr>\n",
       "    <tr>\n",
       "      <th>3</th>\n",
       "      <td>BULEVARD</td>\n",
       "      <td>BOULEVARD</td>\n",
       "    </tr>\n",
       "    <tr>\n",
       "      <th>4</th>\n",
       "      <td>PL</td>\n",
       "      <td>PLACE</td>\n",
       "    </tr>\n",
       "    <tr>\n",
       "      <th>5</th>\n",
       "      <td>ST</td>\n",
       "      <td>STREET</td>\n",
       "    </tr>\n",
       "  </tbody>\n",
       "</table>\n",
       "</div>"
      ],
      "text/plain": [
       "  STREET TYPE_y STREET TYPE_x\n",
       "0           AVE        AVENUE\n",
       "1     BOULEVARD          BLVD\n",
       "2      BULEVARD          BLVD\n",
       "3      BULEVARD     BOULEVARD\n",
       "4            PL         PLACE\n",
       "5            ST        STREET"
      ]
     },
     "execution_count": 30,
     "metadata": {},
     "output_type": "execute_result"
    }
   ],
   "source": [
    "# Soring the names of Street_Y in a list\n",
    "Street_LIST=list(street_crosstab.columns)[2:]\n",
    "\n",
    "#Using melt() to convert the Crosstab_normalized dataframe from wide to long format\n",
    "Melted_Crosstab=pd.melt(street_crosstab,id_vars='STREET TYPE_x', value_vars=Street_LIST)\n",
    "\n",
    "#Filtering the Melted dataframe only for ['AVE','ST','PL','BOULEVARD','BULEVARD']\n",
    "list_of_streets=['AVE','ST','PL','BOULEVARD','BULEVARD']\n",
    "Melted_Crosstab=Melted_Crosstab[Melted_Crosstab['STREET TYPE_y'].isin (list_of_streets)] \n",
    "\n",
    "#Getting the maximum frequency for each STREET TYPE_y\n",
    "Max_Street_frequency_per_Street_Name= Melted_Crosstab.groupby(['STREET TYPE_y'])['value'].agg('max').reset_index()\n",
    "\n",
    "#Joining Max_Street_frequency_per_Street_Name with Melted_Crosstab to get the Street_x for max frequency\n",
    "Final_df=Melted_Crosstab.merge(Max_Street_frequency_per_Street_Name, on=['STREET TYPE_y', 'value'])\n",
    "Final_df[['STREET TYPE_y','STREET TYPE_x']]\n"
   ]
  },
  {
   "cell_type": "markdown",
   "id": "ff3c66df",
   "metadata": {},
   "source": [
    "As expected, most of the common street type misspellings are just alternations between their abbreviation and their full spellings. For instance, the most common misspellings of \"AVE\" is \"AVENUE\", \"ST\" is \"STREET\", \"RD\" is \"ROAD\", \"PL\" is \"PLACE\", \"BOULEVARD\" is \"BLVD\", and \"BULEVARD\" is \"BLVD\" and \"BOULEVARD\"."
   ]
  }
 ],
 "metadata": {
  "kernelspec": {
   "display_name": "Python 3 (ipykernel)",
   "language": "python",
   "name": "python3"
  },
  "language_info": {
   "codemirror_mode": {
    "name": "ipython",
    "version": 3
   },
   "file_extension": ".py",
   "mimetype": "text/x-python",
   "name": "python",
   "nbconvert_exporter": "python",
   "pygments_lexer": "ipython3",
   "version": "3.9.12"
  }
 },
 "nbformat": 4,
 "nbformat_minor": 5
}
